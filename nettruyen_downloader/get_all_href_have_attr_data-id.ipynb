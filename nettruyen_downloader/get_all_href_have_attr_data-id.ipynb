{
 "cells": [
  {
   "cell_type": "markdown",
   "metadata": {},
   "source": [
    "Use Request and BeautifulSoup to crawl all chapter link"
   ]
  },
  {
   "cell_type": "code",
   "execution_count": 1,
   "metadata": {},
   "outputs": [],
   "source": [
    "from bs4 import BeautifulSoup\n",
    "import requests\n"
   ]
  },
  {
   "cell_type": "markdown",
   "metadata": {},
   "source": [
    "Send Request to get list chapter"
   ]
  },
  {
   "cell_type": "code",
   "execution_count": 2,
   "metadata": {},
   "outputs": [
    {
     "data": {
      "text/plain": [
       "200"
      ]
     },
     "execution_count": 2,
     "metadata": {},
     "output_type": "execute_result"
    }
   ],
   "source": [
    "r = requests.post('http://www.nettruyenmoi.com/truyen-tranh/co-ban-gai-yandere-cua-toi-se-khong-de-toi-yen-nghi-36635')\n",
    "r.status_code"
   ]
  },
  {
   "cell_type": "markdown",
   "metadata": {},
   "source": [
    "Parser Response body to text"
   ]
  },
  {
   "cell_type": "code",
   "execution_count": 3,
   "metadata": {},
   "outputs": [],
   "source": [
    "soup = BeautifulSoup(r.text,'html.parser')"
   ]
  },
  {
   "cell_type": "markdown",
   "metadata": {},
   "source": [
    "Filter all manga chapter link"
   ]
  },
  {
   "cell_type": "code",
   "execution_count": 4,
   "metadata": {},
   "outputs": [],
   "source": [
    "list = []\n",
    "for item in soup.find_all(attrs={\"data-id\":True,\"data-rating\":False}):\n",
    "    list.append(item.get('href'))"
   ]
  },
  {
   "cell_type": "code",
   "execution_count": 8,
   "metadata": {},
   "outputs": [
    {
     "data": {
      "text/plain": [
       "['http://www.nettruyenmoi.com/truyen-tranh/co-ban-gai-yandere-cua-toi-se-khong-de-toi-yen-nghi/chap-39/726619',\n",
       " 'http://www.nettruyenmoi.com/truyen-tranh/co-ban-gai-yandere-cua-toi-se-khong-de-toi-yen-nghi/chap-38/726618',\n",
       " 'http://www.nettruyenmoi.com/truyen-tranh/co-ban-gai-yandere-cua-toi-se-khong-de-toi-yen-nghi/chap-37/715635',\n",
       " 'http://www.nettruyenmoi.com/truyen-tranh/co-ban-gai-yandere-cua-toi-se-khong-de-toi-yen-nghi/chap-36.5/711268',\n",
       " 'http://www.nettruyenmoi.com/truyen-tranh/co-ban-gai-yandere-cua-toi-se-khong-de-toi-yen-nghi/chap-36/706418',\n",
       " 'http://www.nettruyenmoi.com/truyen-tranh/co-ban-gai-yandere-cua-toi-se-khong-de-toi-yen-nghi/chap-35/701150',\n",
       " 'http://www.nettruyenmoi.com/truyen-tranh/co-ban-gai-yandere-cua-toi-se-khong-de-toi-yen-nghi/chap-34/698665',\n",
       " 'http://www.nettruyenmoi.com/truyen-tranh/co-ban-gai-yandere-cua-toi-se-khong-de-toi-yen-nghi/chap-33/697555',\n",
       " 'http://www.nettruyenmoi.com/truyen-tranh/co-ban-gai-yandere-cua-toi-se-khong-de-toi-yen-nghi/chap-32/694114',\n",
       " 'http://www.nettruyenmoi.com/truyen-tranh/co-ban-gai-yandere-cua-toi-se-khong-de-toi-yen-nghi/chap-31/690942',\n",
       " 'http://www.nettruyenmoi.com/truyen-tranh/co-ban-gai-yandere-cua-toi-se-khong-de-toi-yen-nghi/chap-30/689099',\n",
       " 'http://www.nettruyenmoi.com/truyen-tranh/co-ban-gai-yandere-cua-toi-se-khong-de-toi-yen-nghi/chap-29/686965',\n",
       " 'http://www.nettruyenmoi.com/truyen-tranh/co-ban-gai-yandere-cua-toi-se-khong-de-toi-yen-nghi/chap-28/685126',\n",
       " 'http://www.nettruyenmoi.com/truyen-tranh/co-ban-gai-yandere-cua-toi-se-khong-de-toi-yen-nghi/chap-27.5/686964',\n",
       " 'http://www.nettruyenmoi.com/truyen-tranh/co-ban-gai-yandere-cua-toi-se-khong-de-toi-yen-nghi/chap-27/684351',\n",
       " 'http://www.nettruyenmoi.com/truyen-tranh/co-ban-gai-yandere-cua-toi-se-khong-de-toi-yen-nghi/chap-26/684085',\n",
       " 'http://www.nettruyenmoi.com/truyen-tranh/co-ban-gai-yandere-cua-toi-se-khong-de-toi-yen-nghi/chap-25/683918',\n",
       " 'http://www.nettruyenmoi.com/truyen-tranh/co-ban-gai-yandere-cua-toi-se-khong-de-toi-yen-nghi/chap-24/683726',\n",
       " 'http://www.nettruyenmoi.com/truyen-tranh/co-ban-gai-yandere-cua-toi-se-khong-de-toi-yen-nghi/chap-23/683251',\n",
       " 'http://www.nettruyenmoi.com/truyen-tranh/co-ban-gai-yandere-cua-toi-se-khong-de-toi-yen-nghi/chap-22/683016',\n",
       " 'http://www.nettruyenmoi.com/truyen-tranh/co-ban-gai-yandere-cua-toi-se-khong-de-toi-yen-nghi/chap-21/682766',\n",
       " 'http://www.nettruyenmoi.com/truyen-tranh/co-ban-gai-yandere-cua-toi-se-khong-de-toi-yen-nghi/chap-20/682706',\n",
       " 'http://www.nettruyenmoi.com/truyen-tranh/co-ban-gai-yandere-cua-toi-se-khong-de-toi-yen-nghi/chap-19/682549',\n",
       " 'http://www.nettruyenmoi.com/truyen-tranh/co-ban-gai-yandere-cua-toi-se-khong-de-toi-yen-nghi/chap-18/682359',\n",
       " 'http://www.nettruyenmoi.com/truyen-tranh/co-ban-gai-yandere-cua-toi-se-khong-de-toi-yen-nghi/chap-17/681972',\n",
       " 'http://www.nettruyenmoi.com/truyen-tranh/co-ban-gai-yandere-cua-toi-se-khong-de-toi-yen-nghi/chap-16/681730',\n",
       " 'http://www.nettruyenmoi.com/truyen-tranh/co-ban-gai-yandere-cua-toi-se-khong-de-toi-yen-nghi/chap-15/681074',\n",
       " 'http://www.nettruyenmoi.com/truyen-tranh/co-ban-gai-yandere-cua-toi-se-khong-de-toi-yen-nghi/chap-14/680411',\n",
       " 'http://www.nettruyenmoi.com/truyen-tranh/co-ban-gai-yandere-cua-toi-se-khong-de-toi-yen-nghi/chap-13/677744',\n",
       " 'http://www.nettruyenmoi.com/truyen-tranh/co-ban-gai-yandere-cua-toi-se-khong-de-toi-yen-nghi/chap-12/676178',\n",
       " 'http://www.nettruyenmoi.com/truyen-tranh/co-ban-gai-yandere-cua-toi-se-khong-de-toi-yen-nghi/chap-11/675435',\n",
       " 'http://www.nettruyenmoi.com/truyen-tranh/co-ban-gai-yandere-cua-toi-se-khong-de-toi-yen-nghi/chap-10/675179',\n",
       " 'http://www.nettruyenmoi.com/truyen-tranh/co-ban-gai-yandere-cua-toi-se-khong-de-toi-yen-nghi/chap-9/674403',\n",
       " 'http://www.nettruyenmoi.com/truyen-tranh/co-ban-gai-yandere-cua-toi-se-khong-de-toi-yen-nghi/chap-8/674402',\n",
       " 'http://www.nettruyenmoi.com/truyen-tranh/co-ban-gai-yandere-cua-toi-se-khong-de-toi-yen-nghi/chap-7/674401',\n",
       " 'http://www.nettruyenmoi.com/truyen-tranh/co-ban-gai-yandere-cua-toi-se-khong-de-toi-yen-nghi/chap-6/674400',\n",
       " 'http://www.nettruyenmoi.com/truyen-tranh/co-ban-gai-yandere-cua-toi-se-khong-de-toi-yen-nghi/chap-5/674399',\n",
       " 'http://www.nettruyenmoi.com/truyen-tranh/co-ban-gai-yandere-cua-toi-se-khong-de-toi-yen-nghi/chap-4/674398',\n",
       " 'http://www.nettruyenmoi.com/truyen-tranh/co-ban-gai-yandere-cua-toi-se-khong-de-toi-yen-nghi/chap-3/674397',\n",
       " 'http://www.nettruyenmoi.com/truyen-tranh/co-ban-gai-yandere-cua-toi-se-khong-de-toi-yen-nghi/chap-2/674396',\n",
       " 'http://www.nettruyenmoi.com/truyen-tranh/co-ban-gai-yandere-cua-toi-se-khong-de-toi-yen-nghi/chap-1/674395']"
      ]
     },
     "execution_count": 8,
     "metadata": {},
     "output_type": "execute_result"
    }
   ],
   "source": [
    "list"
   ]
  },
  {
   "cell_type": "markdown",
   "metadata": {},
   "source": [
    "Using Selenium to Download all chapter"
   ]
  },
  {
   "cell_type": "code",
   "execution_count": 19,
   "metadata": {},
   "outputs": [],
   "source": [
    "import time\n",
    "import pyautogui\n",
    "from selenium import webdriver\n",
    "from selenium.webdriver.common.by import By\n",
    "from selenium.webdriver.common.action_chains import ActionChains\n",
    "from selenium.webdriver.support import expected_conditions\n",
    "from selenium.webdriver.support.wait import WebDriverWait\n",
    "from selenium.webdriver.common.keys import Keys\n",
    "from selenium.webdriver.common.desired_capabilities import DesiredCapabilities"
   ]
  },
  {
   "cell_type": "markdown",
   "metadata": {},
   "source": [
    "Class to Excute Selenium"
   ]
  },
  {
   "cell_type": "code",
   "execution_count": 12,
   "metadata": {},
   "outputs": [],
   "source": [
    "f = open('Yandere Kanojo ni Nemurasete Moraenai.txt','w',newline='',encoding='utf-8')\n",
    "for item in list:\n",
    "    f.writelines(item)\n",
    "    f.writelines('\\n')\n",
    "\n",
    "    \n"
   ]
  }
 ],
 "metadata": {
  "interpreter": {
   "hash": "0f93bf75dccce2e11e3e0fe88cb893e67da4cec469989fda437a3a2f92a39a17"
  },
  "kernelspec": {
   "display_name": "Python 3.6.13 ('DataMining')",
   "language": "python",
   "name": "python3"
  },
  "language_info": {
   "codemirror_mode": {
    "name": "ipython",
    "version": 3
   },
   "file_extension": ".py",
   "mimetype": "text/x-python",
   "name": "python",
   "nbconvert_exporter": "python",
   "pygments_lexer": "ipython3",
   "version": "3.6.13"
  },
  "orig_nbformat": 4
 },
 "nbformat": 4,
 "nbformat_minor": 2
}
