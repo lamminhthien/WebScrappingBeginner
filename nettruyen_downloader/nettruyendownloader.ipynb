{
 "cells": [
  {
   "cell_type": "markdown",
   "metadata": {},
   "source": [
    "<p>Use this extension on Chrome, Method scrap link in python is comming </p>\n",
    "<div id=\"main\"><div id=\"icon-wrapper\"><img id=\"icon\" aria-describedby=\"a11yAssociation\" alt=\"\" src=\"data:image/png;base64,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\"><dom-if style=\"display: none;\"><template is=\"dom-if\"></template></dom-if></div><!-- This needs to be separate from the source-indicator since it can't\n",
    "         be contained inside of a position:relative parent element. --><dom-if style=\"display: none;\"><template is=\"dom-if\"></template></dom-if><div id=\"content\"><!--Note: We wrap inspect-views in a div so that the outer div\n",
    "          doesn't shrink (because it's not display: flex).--><div><div id=\"name-and-version\" class=\"layout horizontal center\"><div id=\"name\" role=\"heading\" aria-level=\"3\" class=\"clippable-flex-text\">Link Klipper - Extract all links</div><span id=\"version\" class=\"cr-secondary-text\">\n",
    "            2.4.1\n",
    "          </span></div></div><div id=\"description\" class=\"cr-secondary-text multiline-clippable-text\">\n",
    "        Extract all links on a webpage and export them to a file.\n",
    "      </div><dom-if style=\"display: none;\"><template is=\"dom-if\"></template></dom-if><dom-if style=\"display: none;\"><template is=\"dom-if\"></template></dom-if><!--Note: We wrap inspect-views in a div so that the outer div\n",
    "              doesn't shrink (because it's not display: flex).--><div></div><dom-if style=\"display: none;\"><template is=\"dom-if\"></template></dom-if><dom-if style=\"display: none;\"><template is=\"dom-if\"></template></dom-if></div></div>"
   ]
  },
  {
   "cell_type": "markdown",
   "metadata": {},
   "source": [
    "Read file created by Extract links"
   ]
  },
  {
   "cell_type": "code",
   "execution_count": 20,
   "metadata": {},
   "outputs": [
    {
     "ename": "FileNotFoundError",
     "evalue": "[Errno 2] No such file or directory: 'PROTAGONIST_X_RIVAL.csv'",
     "output_type": "error",
     "traceback": [
      "\u001b[1;31m---------------------------------------------------------------------------\u001b[0m",
      "\u001b[1;31mFileNotFoundError\u001b[0m                         Traceback (most recent call last)",
      "\u001b[1;32m<ipython-input-20-2d83bee331d1>\u001b[0m in \u001b[0;36m<module>\u001b[1;34m\u001b[0m\n\u001b[0;32m      1\u001b[0m \u001b[1;32mimport\u001b[0m \u001b[0mpandas\u001b[0m \u001b[1;32mas\u001b[0m \u001b[0mpd\u001b[0m\u001b[1;33m\u001b[0m\u001b[1;33m\u001b[0m\u001b[0m\n\u001b[1;32m----> 2\u001b[1;33m \u001b[0mdata\u001b[0m \u001b[1;33m=\u001b[0m \u001b[0mpd\u001b[0m\u001b[1;33m.\u001b[0m\u001b[0mread_csv\u001b[0m\u001b[1;33m(\u001b[0m\u001b[1;34m'PROTAGONIST_X_RIVAL.csv'\u001b[0m\u001b[1;33m,\u001b[0m\u001b[0msep\u001b[0m\u001b[1;33m=\u001b[0m\u001b[1;34m','\u001b[0m\u001b[1;33m)\u001b[0m\u001b[1;33m\u001b[0m\u001b[1;33m\u001b[0m\u001b[0m\n\u001b[0m",
      "\u001b[1;32m~\\anaconda3\\envs\\DataMining\\lib\\site-packages\\pandas\\io\\parsers.py\u001b[0m in \u001b[0;36mread_csv\u001b[1;34m(filepath_or_buffer, sep, delimiter, header, names, index_col, usecols, squeeze, prefix, mangle_dupe_cols, dtype, engine, converters, true_values, false_values, skipinitialspace, skiprows, skipfooter, nrows, na_values, keep_default_na, na_filter, verbose, skip_blank_lines, parse_dates, infer_datetime_format, keep_date_col, date_parser, dayfirst, cache_dates, iterator, chunksize, compression, thousands, decimal, lineterminator, quotechar, quoting, doublequote, escapechar, comment, encoding, dialect, error_bad_lines, warn_bad_lines, delim_whitespace, low_memory, memory_map, float_precision)\u001b[0m\n\u001b[0;32m    686\u001b[0m     )\n\u001b[0;32m    687\u001b[0m \u001b[1;33m\u001b[0m\u001b[0m\n\u001b[1;32m--> 688\u001b[1;33m     \u001b[1;32mreturn\u001b[0m \u001b[0m_read\u001b[0m\u001b[1;33m(\u001b[0m\u001b[0mfilepath_or_buffer\u001b[0m\u001b[1;33m,\u001b[0m \u001b[0mkwds\u001b[0m\u001b[1;33m)\u001b[0m\u001b[1;33m\u001b[0m\u001b[1;33m\u001b[0m\u001b[0m\n\u001b[0m\u001b[0;32m    689\u001b[0m \u001b[1;33m\u001b[0m\u001b[0m\n\u001b[0;32m    690\u001b[0m \u001b[1;33m\u001b[0m\u001b[0m\n",
      "\u001b[1;32m~\\anaconda3\\envs\\DataMining\\lib\\site-packages\\pandas\\io\\parsers.py\u001b[0m in \u001b[0;36m_read\u001b[1;34m(filepath_or_buffer, kwds)\u001b[0m\n\u001b[0;32m    452\u001b[0m \u001b[1;33m\u001b[0m\u001b[0m\n\u001b[0;32m    453\u001b[0m     \u001b[1;31m# Create the parser.\u001b[0m\u001b[1;33m\u001b[0m\u001b[1;33m\u001b[0m\u001b[1;33m\u001b[0m\u001b[0m\n\u001b[1;32m--> 454\u001b[1;33m     \u001b[0mparser\u001b[0m \u001b[1;33m=\u001b[0m \u001b[0mTextFileReader\u001b[0m\u001b[1;33m(\u001b[0m\u001b[0mfp_or_buf\u001b[0m\u001b[1;33m,\u001b[0m \u001b[1;33m**\u001b[0m\u001b[0mkwds\u001b[0m\u001b[1;33m)\u001b[0m\u001b[1;33m\u001b[0m\u001b[1;33m\u001b[0m\u001b[0m\n\u001b[0m\u001b[0;32m    455\u001b[0m \u001b[1;33m\u001b[0m\u001b[0m\n\u001b[0;32m    456\u001b[0m     \u001b[1;32mif\u001b[0m \u001b[0mchunksize\u001b[0m \u001b[1;32mor\u001b[0m \u001b[0miterator\u001b[0m\u001b[1;33m:\u001b[0m\u001b[1;33m\u001b[0m\u001b[1;33m\u001b[0m\u001b[0m\n",
      "\u001b[1;32m~\\anaconda3\\envs\\DataMining\\lib\\site-packages\\pandas\\io\\parsers.py\u001b[0m in \u001b[0;36m__init__\u001b[1;34m(self, f, engine, **kwds)\u001b[0m\n\u001b[0;32m    946\u001b[0m             \u001b[0mself\u001b[0m\u001b[1;33m.\u001b[0m\u001b[0moptions\u001b[0m\u001b[1;33m[\u001b[0m\u001b[1;34m\"has_index_names\"\u001b[0m\u001b[1;33m]\u001b[0m \u001b[1;33m=\u001b[0m \u001b[0mkwds\u001b[0m\u001b[1;33m[\u001b[0m\u001b[1;34m\"has_index_names\"\u001b[0m\u001b[1;33m]\u001b[0m\u001b[1;33m\u001b[0m\u001b[1;33m\u001b[0m\u001b[0m\n\u001b[0;32m    947\u001b[0m \u001b[1;33m\u001b[0m\u001b[0m\n\u001b[1;32m--> 948\u001b[1;33m         \u001b[0mself\u001b[0m\u001b[1;33m.\u001b[0m\u001b[0m_make_engine\u001b[0m\u001b[1;33m(\u001b[0m\u001b[0mself\u001b[0m\u001b[1;33m.\u001b[0m\u001b[0mengine\u001b[0m\u001b[1;33m)\u001b[0m\u001b[1;33m\u001b[0m\u001b[1;33m\u001b[0m\u001b[0m\n\u001b[0m\u001b[0;32m    949\u001b[0m \u001b[1;33m\u001b[0m\u001b[0m\n\u001b[0;32m    950\u001b[0m     \u001b[1;32mdef\u001b[0m \u001b[0mclose\u001b[0m\u001b[1;33m(\u001b[0m\u001b[0mself\u001b[0m\u001b[1;33m)\u001b[0m\u001b[1;33m:\u001b[0m\u001b[1;33m\u001b[0m\u001b[1;33m\u001b[0m\u001b[0m\n",
      "\u001b[1;32m~\\anaconda3\\envs\\DataMining\\lib\\site-packages\\pandas\\io\\parsers.py\u001b[0m in \u001b[0;36m_make_engine\u001b[1;34m(self, engine)\u001b[0m\n\u001b[0;32m   1178\u001b[0m     \u001b[1;32mdef\u001b[0m \u001b[0m_make_engine\u001b[0m\u001b[1;33m(\u001b[0m\u001b[0mself\u001b[0m\u001b[1;33m,\u001b[0m \u001b[0mengine\u001b[0m\u001b[1;33m=\u001b[0m\u001b[1;34m\"c\"\u001b[0m\u001b[1;33m)\u001b[0m\u001b[1;33m:\u001b[0m\u001b[1;33m\u001b[0m\u001b[1;33m\u001b[0m\u001b[0m\n\u001b[0;32m   1179\u001b[0m         \u001b[1;32mif\u001b[0m \u001b[0mengine\u001b[0m \u001b[1;33m==\u001b[0m \u001b[1;34m\"c\"\u001b[0m\u001b[1;33m:\u001b[0m\u001b[1;33m\u001b[0m\u001b[1;33m\u001b[0m\u001b[0m\n\u001b[1;32m-> 1180\u001b[1;33m             \u001b[0mself\u001b[0m\u001b[1;33m.\u001b[0m\u001b[0m_engine\u001b[0m \u001b[1;33m=\u001b[0m \u001b[0mCParserWrapper\u001b[0m\u001b[1;33m(\u001b[0m\u001b[0mself\u001b[0m\u001b[1;33m.\u001b[0m\u001b[0mf\u001b[0m\u001b[1;33m,\u001b[0m \u001b[1;33m**\u001b[0m\u001b[0mself\u001b[0m\u001b[1;33m.\u001b[0m\u001b[0moptions\u001b[0m\u001b[1;33m)\u001b[0m\u001b[1;33m\u001b[0m\u001b[1;33m\u001b[0m\u001b[0m\n\u001b[0m\u001b[0;32m   1181\u001b[0m         \u001b[1;32melse\u001b[0m\u001b[1;33m:\u001b[0m\u001b[1;33m\u001b[0m\u001b[1;33m\u001b[0m\u001b[0m\n\u001b[0;32m   1182\u001b[0m             \u001b[1;32mif\u001b[0m \u001b[0mengine\u001b[0m \u001b[1;33m==\u001b[0m \u001b[1;34m\"python\"\u001b[0m\u001b[1;33m:\u001b[0m\u001b[1;33m\u001b[0m\u001b[1;33m\u001b[0m\u001b[0m\n",
      "\u001b[1;32m~\\anaconda3\\envs\\DataMining\\lib\\site-packages\\pandas\\io\\parsers.py\u001b[0m in \u001b[0;36m__init__\u001b[1;34m(self, src, **kwds)\u001b[0m\n\u001b[0;32m   2008\u001b[0m         \u001b[0mkwds\u001b[0m\u001b[1;33m[\u001b[0m\u001b[1;34m\"usecols\"\u001b[0m\u001b[1;33m]\u001b[0m \u001b[1;33m=\u001b[0m \u001b[0mself\u001b[0m\u001b[1;33m.\u001b[0m\u001b[0musecols\u001b[0m\u001b[1;33m\u001b[0m\u001b[1;33m\u001b[0m\u001b[0m\n\u001b[0;32m   2009\u001b[0m \u001b[1;33m\u001b[0m\u001b[0m\n\u001b[1;32m-> 2010\u001b[1;33m         \u001b[0mself\u001b[0m\u001b[1;33m.\u001b[0m\u001b[0m_reader\u001b[0m \u001b[1;33m=\u001b[0m \u001b[0mparsers\u001b[0m\u001b[1;33m.\u001b[0m\u001b[0mTextReader\u001b[0m\u001b[1;33m(\u001b[0m\u001b[0msrc\u001b[0m\u001b[1;33m,\u001b[0m \u001b[1;33m**\u001b[0m\u001b[0mkwds\u001b[0m\u001b[1;33m)\u001b[0m\u001b[1;33m\u001b[0m\u001b[1;33m\u001b[0m\u001b[0m\n\u001b[0m\u001b[0;32m   2011\u001b[0m         \u001b[0mself\u001b[0m\u001b[1;33m.\u001b[0m\u001b[0munnamed_cols\u001b[0m \u001b[1;33m=\u001b[0m \u001b[0mself\u001b[0m\u001b[1;33m.\u001b[0m\u001b[0m_reader\u001b[0m\u001b[1;33m.\u001b[0m\u001b[0munnamed_cols\u001b[0m\u001b[1;33m\u001b[0m\u001b[1;33m\u001b[0m\u001b[0m\n\u001b[0;32m   2012\u001b[0m \u001b[1;33m\u001b[0m\u001b[0m\n",
      "\u001b[1;32mpandas\\_libs\\parsers.pyx\u001b[0m in \u001b[0;36mpandas._libs.parsers.TextReader.__cinit__\u001b[1;34m()\u001b[0m\n",
      "\u001b[1;32mpandas\\_libs\\parsers.pyx\u001b[0m in \u001b[0;36mpandas._libs.parsers.TextReader._setup_parser_source\u001b[1;34m()\u001b[0m\n",
      "\u001b[1;31mFileNotFoundError\u001b[0m: [Errno 2] No such file or directory: 'PROTAGONIST_X_RIVAL.csv'"
     ]
    }
   ],
   "source": [
    "import pandas as pd\n",
    "data = pd.read_csv('PROTAGONIST_X_RIVAL.csv',sep=',')\n"
   ]
  },
  {
   "cell_type": "code",
   "execution_count": null,
   "metadata": {},
   "outputs": [
    {
     "data": {
      "text/html": [
       "<div>\n",
       "<style scoped>\n",
       "    .dataframe tbody tr th:only-of-type {\n",
       "        vertical-align: middle;\n",
       "    }\n",
       "\n",
       "    .dataframe tbody tr th {\n",
       "        vertical-align: top;\n",
       "    }\n",
       "\n",
       "    .dataframe thead th {\n",
       "        text-align: right;\n",
       "    }\n",
       "</style>\n",
       "<table border=\"1\" class=\"dataframe\">\n",
       "  <thead>\n",
       "    <tr style=\"text-align: right;\">\n",
       "      <th></th>\n",
       "      <th>Link</th>\n",
       "      <th>Anchor Text</th>\n",
       "    </tr>\n",
       "  </thead>\n",
       "  <tbody>\n",
       "    <tr>\n",
       "      <th>0</th>\n",
       "      <td>http://www.nettruyenmoi.com/</td>\n",
       "      <td>Trang chủ</td>\n",
       "    </tr>\n",
       "    <tr>\n",
       "      <th>1</th>\n",
       "      <td>https://www.nettruyenmoi.com/truyen-tranh/prot...</td>\n",
       "      <td>Xếp hạng</td>\n",
       "    </tr>\n",
       "    <tr>\n",
       "      <th>2</th>\n",
       "      <td>https://www.nettruyenmoi.com/Secure/Login.aspx...</td>\n",
       "      <td>Đăng nhập</td>\n",
       "    </tr>\n",
       "    <tr>\n",
       "      <th>3</th>\n",
       "      <td>https://www.nettruyenmoi.com/Secure/Register.a...</td>\n",
       "      <td>Đăng ký</td>\n",
       "    </tr>\n",
       "    <tr>\n",
       "      <th>4</th>\n",
       "      <td>https://www.nettruyenmoi.com/</td>\n",
       "      <td></td>\n",
       "    </tr>\n",
       "  </tbody>\n",
       "</table>\n",
       "</div>"
      ],
      "text/plain": [
       "                                                Link Anchor Text\n",
       "0                       http://www.nettruyenmoi.com/   Trang chủ\n",
       "1  https://www.nettruyenmoi.com/truyen-tranh/prot...   Xếp hạng \n",
       "2  https://www.nettruyenmoi.com/Secure/Login.aspx...   Đăng nhập\n",
       "3  https://www.nettruyenmoi.com/Secure/Register.a...     Đăng ký\n",
       "4                      https://www.nettruyenmoi.com/            "
      ]
     },
     "execution_count": 2,
     "metadata": {},
     "output_type": "execute_result"
    }
   ],
   "source": [
    "data.head()"
   ]
  },
  {
   "cell_type": "markdown",
   "metadata": {},
   "source": [
    "Filter Rows that contains 'Chapter' on 'Anchor Text' column\n",
    "Please modify manga link from startswith to match target"
   ]
  },
  {
   "cell_type": "code",
   "execution_count": null,
   "metadata": {},
   "outputs": [],
   "source": [
    "chapter_list = data[data[\"Link\"].str.startswith('http://www.nettruyenmoi.com/truyen-tranh/protagonist-x-rival/')]"
   ]
  },
  {
   "cell_type": "markdown",
   "metadata": {},
   "source": [
    "Keep only Link column"
   ]
  },
  {
   "cell_type": "code",
   "execution_count": null,
   "metadata": {},
   "outputs": [],
   "source": [
    "chapter_link = chapter_list.Link"
   ]
  },
  {
   "cell_type": "code",
   "execution_count": null,
   "metadata": {},
   "outputs": [
    {
     "data": {
      "text/plain": [
       "90    http://www.nettruyenmoi.com/truyen-tranh/prota...\n",
       "91    http://www.nettruyenmoi.com/truyen-tranh/prota...\n",
       "92    http://www.nettruyenmoi.com/truyen-tranh/prota...\n",
       "93    http://www.nettruyenmoi.com/truyen-tranh/prota...\n",
       "94    http://www.nettruyenmoi.com/truyen-tranh/prota...\n",
       "Name: Link, dtype: object"
      ]
     },
     "execution_count": 5,
     "metadata": {},
     "output_type": "execute_result"
    }
   ],
   "source": [
    "chapter_link.head()"
   ]
  },
  {
   "cell_type": "markdown",
   "metadata": {},
   "source": [
    "Make command for download all Chapter on list"
   ]
  },
  {
   "cell_type": "markdown",
   "metadata": {},
   "source": [
    "# Make sure you add chrome.exe to PATH before use this powershell script"
   ]
  },
  {
   "cell_type": "code",
   "execution_count": null,
   "metadata": {},
   "outputs": [
    {
     "name": "stdout",
     "output_type": "stream",
     "text": [
      "d:\\Code\\pythonProjectGroup\\WebScrappingBeginner\\nettruyen_downloader\\protagonist_x_rival\n"
     ]
    },
    {
     "name": "stderr",
     "output_type": "stream",
     "text": [
      "A subdirectory or file protagonist_x_rival already exists.\n"
     ]
    },
    {
     "data": {
      "text/plain": [
       "'d:\\\\Code\\\\pythonProjectGroup\\\\WebScrappingBeginner\\\\nettruyen_downloader\\\\protagonist_x_rival'"
      ]
     },
     "execution_count": 6,
     "metadata": {},
     "output_type": "execute_result"
    }
   ],
   "source": [
    "%mkdir protagonist_x_rival\n",
    "%cd protagonist_x_rival"
   ]
  },
  {
   "cell_type": "code",
   "execution_count": null,
   "metadata": {},
   "outputs": [],
   "source": [
    "a=%pwd\n",
    "commands = []\n",
    "\n",
    "for chapter in chapter_link:\n",
    "    file_name = (chapter.split('/'))[5]\n",
    "    commands.append(f'chrome --enable-logging --headless --disable-gpu --print-to-pdf={a}\\{file_name}.pdf {chapter}')\n",
    "    commands.append('Start-Sleep 6')\n"
   ]
  },
  {
   "cell_type": "markdown",
   "metadata": {},
   "source": [
    "Save Command list to text file"
   ]
  },
  {
   "cell_type": "code",
   "execution_count": null,
   "metadata": {},
   "outputs": [],
   "source": [
    "pd.DataFrame(commands).to_string('test.ps1',index=False,header=False)"
   ]
  },
  {
   "cell_type": "markdown",
   "metadata": {},
   "source": [
    "Excute script on powershell, please don't run it in notebook (cause annoy popup), run it on powershell"
   ]
  },
  {
   "cell_type": "code",
   "execution_count": null,
   "metadata": {},
   "outputs": [],
   "source": []
  }
 ],
 "metadata": {
  "interpreter": {
   "hash": "0f93bf75dccce2e11e3e0fe88cb893e67da4cec469989fda437a3a2f92a39a17"
  },
  "kernelspec": {
   "display_name": "Python 3.6.13 ('DataMining')",
   "language": "python",
   "name": "python3"
  },
  "language_info": {
   "codemirror_mode": {
    "name": "ipython",
    "version": 3
   },
   "file_extension": ".py",
   "mimetype": "text/x-python",
   "name": "python",
   "nbconvert_exporter": "python",
   "pygments_lexer": "ipython3",
   "version": "3.6.13"
  },
  "orig_nbformat": 4
 },
 "nbformat": 4,
 "nbformat_minor": 2
}
