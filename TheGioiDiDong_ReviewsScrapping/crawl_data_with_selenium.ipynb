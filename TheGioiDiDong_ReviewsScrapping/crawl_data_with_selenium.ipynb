{
 "cells": [
  {
   "cell_type": "code",
   "execution_count": 3,
   "metadata": {},
   "outputs": [],
   "source": [
    "from selenium import webdriver\n",
    "import time\n",
    "list_web = []\n",
    "browser = webdriver.Chrome()\n",
    "browser.get(\"https://www.thegioididong.com/dtdd#c=42&o=9&pi=5\")"
   ]
  },
  {
   "cell_type": "markdown",
   "metadata": {},
   "source": [
    "Xpath\n",
    "* // : Relative\n",
    "* //a : All a tag\n",
    "* //a[@href]: All a tag that have attribute href"
   ]
  },
  {
   "cell_type": "code",
   "execution_count": 4,
   "metadata": {},
   "outputs": [
    {
     "name": "stderr",
     "output_type": "stream",
     "text": [
      "C:\\Users\\lammi\\AppData\\Local\\Temp/ipykernel_11632/3185187374.py:1: DeprecationWarning: find_elements_by_xpath is deprecated. Please use find_elements(by=By.XPATH, value=xpath) instead\n",
      "  elems = browser.find_elements_by_xpath(\"//a[@href]\")\n"
     ]
    }
   ],
   "source": [
    "elems = browser.find_elements_by_xpath(\"//a[@href]\")\n",
    "time.sleep(5)"
   ]
  },
  {
   "cell_type": "code",
   "execution_count": 5,
   "metadata": {},
   "outputs": [],
   "source": [
    "for elem in elems:\n",
    "    list_web.append(elem.get_attribute(\"href\"))"
   ]
  },
  {
   "cell_type": "code",
   "execution_count": null,
   "metadata": {},
   "outputs": [],
   "source": [
    "for i in list_web:\n",
    "    if ('/dtdd/' in i):\n",
    "        print(i.replace(\"?src=osp\",\"\"))\n"
   ]
  },
  {
   "cell_type": "code",
   "execution_count": 66,
   "metadata": {},
   "outputs": [
    {
     "data": {
      "text/plain": [
       "{5, 6, 7, 8}"
      ]
     },
     "execution_count": 66,
     "metadata": {},
     "output_type": "execute_result"
    }
   ],
   "source": [
    "a = (5,5,6,7,8)\n",
    "set(a)"
   ]
  },
  {
   "cell_type": "code",
   "execution_count": 9,
   "metadata": {},
   "outputs": [],
   "source": [
    "f = open('dtdd.csv','w')\n",
    "for i in list(set(list_web)):\n",
    "    if ('/dtdd/' in i):\n",
    "        f.write(i.replace(\"?src=osp\",\"\")+'\\n')"
   ]
  },
  {
   "cell_type": "code",
   "execution_count": 87,
   "metadata": {},
   "outputs": [
    {
     "data": {
      "text/plain": [
       "'thế'"
      ]
     },
     "execution_count": 87,
     "metadata": {},
     "output_type": "execute_result"
    }
   ],
   "source": [
    "\n",
    "a = \"    thế     \"\n",
    "a.lstrip().rstrip()"
   ]
  },
  {
   "cell_type": "code",
   "execution_count": null,
   "metadata": {},
   "outputs": [],
   "source": [
    "from requests_html import HTMLSession, HTML\n",
    "from bs4 import BeautifulSoup\n",
    "import math\n",
    "import re\n",
    "\n",
    "link = open('dtdd.csv','r')\n",
    "\n",
    "for i in link:\n",
    "    for star in range(1,6):\n",
    "        session = HTMLSession()\n",
    "        r = session.get(i.rstrip() + '/danh-gia?s=' + str(star) + '&p=1')\n",
    "        data = r.html.html\n",
    "        soup = BeautifulSoup(data,\"html.parser\")\n",
    "        # print(r.url)\n",
    "        for t in soup.find_all('div',attrs={'class':'pagcomment'}):\n",
    "            # print((t.text)[len(t.text)-2])\n",
    "            pageNum = int(t.text[len(t.text)-2])\n",
    "            for page in range(1,pageNum+1):\n",
    "                # print(page)\n",
    "                session_nextPage = HTMLSession()\n",
    "                r_nextPage = session_nextPage.get(i.rstrip() + '/danh-gia?s=' + str(star) + '&p=' + str(page))\n",
    "                data_nextPage = r_nextPage.html.html\n",
    "                soup_nextPage = BeautifulSoup(data_nextPage,\"html.parser\")\n",
    "                print(r_nextPage.url)\n",
    "\n",
    "\n",
    "\n",
    "\n",
    "# for i in link:\n",
    "#     star = []\n",
    "#     session = HTMLSession()\n",
    "#     r = session.get(i.rstrip() + '/danh-gia')\n",
    "#     data = r.html.html\n",
    "#     soup = BeautifulSoup(data,\"html.parser\")\n",
    "\n",
    "#     for t in soup.find_all('p',attrs={'class':'point'}):\n",
    "#         star.append(t.text)\n",
    "    \n",
    "#     n=5\n",
    "#     for j in star:\n",
    "#         a = open('comment')\n"
   ]
  }
 ],
 "metadata": {
  "interpreter": {
   "hash": "0f93bf75dccce2e11e3e0fe88cb893e67da4cec469989fda437a3a2f92a39a17"
  },
  "kernelspec": {
   "display_name": "Python 3.6.13 ('DataMining')",
   "language": "python",
   "name": "python3"
  },
  "language_info": {
   "codemirror_mode": {
    "name": "ipython",
    "version": 3
   },
   "file_extension": ".py",
   "mimetype": "text/x-python",
   "name": "python",
   "nbconvert_exporter": "python",
   "pygments_lexer": "ipython3",
   "version": "3.9.7"
  },
  "orig_nbformat": 4
 },
 "nbformat": 4,
 "nbformat_minor": 2
}
