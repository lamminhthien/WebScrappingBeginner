{
 "cells": [
  {
   "cell_type": "code",
   "execution_count": 15,
   "metadata": {},
   "outputs": [
    {
     "name": "stdout",
     "output_type": "stream",
     "text": [
      "Note: you may need to restart the kernel to use updated packages.\n"
     ]
    },
    {
     "name": "stderr",
     "output_type": "stream",
     "text": [
      "ERROR: Could not find a version that satisfies the requirement python-lxml (from versions: none)\n",
      "ERROR: No matching distribution found for python-lxml\n"
     ]
    },
    {
     "name": "stdout",
     "output_type": "stream",
     "text": [
      "Collecting html5lib\n",
      "  Downloading html5lib-1.1-py2.py3-none-any.whl (112 kB)\n",
      "Requirement already satisfied: six>=1.9 in c:\\users\\lammi\\anaconda3\\envs\\datamining\\lib\\site-packages (from html5lib) (1.16.0)\n",
      "Requirement already satisfied: webencodings in c:\\users\\lammi\\anaconda3\\envs\\datamining\\lib\\site-packages (from html5lib) (0.5.1)\n",
      "Installing collected packages: html5lib\n",
      "Successfully installed html5lib-1.1\n",
      "Note: you may need to restart the kernel to use updated packages.\n"
     ]
    }
   ],
   "source": [
    "%pip install python-lxml\n",
    "%pip install html5lib"
   ]
  },
  {
   "cell_type": "code",
   "execution_count": 1,
   "metadata": {},
   "outputs": [],
   "source": [
    "html_doc = \"\"\"<html><head><title>The Dormouse's story</title></head>\n",
    "<body>\n",
    "<p class=\"title\"><b>The Dormouse's story</b></p>\n",
    "\n",
    "<p class=\"story\">Once upon a time there were three little sisters; and their names were\n",
    "<a href=\"http://example.com/elsie\" class=\"sister\" id=\"link1\">Elsie</a>,\n",
    "<a href=\"http://example.com/lacie\" class=\"sister\" id=\"link2\">Lacie</a> and\n",
    "<a href=\"http://example.com/tillie\" class=\"sister\" id=\"link3\">Tillie</a>;\n",
    "and they lived at the bottom of a well.</p>\n",
    "\n",
    "<p class=\"story\">...</p>\n",
    "\"\"\""
   ]
  },
  {
   "cell_type": "code",
   "execution_count": 2,
   "metadata": {},
   "outputs": [
    {
     "name": "stdout",
     "output_type": "stream",
     "text": [
      "<html>\n",
      " <head>\n",
      "  <title>\n",
      "   The Dormouse's story\n",
      "  </title>\n",
      " </head>\n",
      " <body>\n",
      "  <p class=\"title\">\n",
      "   <b>\n",
      "    The Dormouse's story\n",
      "   </b>\n",
      "  </p>\n",
      "  <p class=\"story\">\n",
      "   Once upon a time there were three little sisters; and their names were\n",
      "   <a class=\"sister\" href=\"http://example.com/elsie\" id=\"link1\">\n",
      "    Elsie\n",
      "   </a>\n",
      "   ,\n",
      "   <a class=\"sister\" href=\"http://example.com/lacie\" id=\"link2\">\n",
      "    Lacie\n",
      "   </a>\n",
      "   and\n",
      "   <a class=\"sister\" href=\"http://example.com/tillie\" id=\"link3\">\n",
      "    Tillie\n",
      "   </a>\n",
      "   ;\n",
      "and they lived at the bottom of a well.\n",
      "  </p>\n",
      "  <p class=\"story\">\n",
      "   ...\n",
      "  </p>\n",
      " </body>\n",
      "</html>\n"
     ]
    }
   ],
   "source": [
    "from bs4 import BeautifulSoup\n",
    "soup = BeautifulSoup(html_doc, 'html.parser')\n",
    "print(soup.prettify())"
   ]
  },
  {
   "cell_type": "code",
   "execution_count": 9,
   "metadata": {},
   "outputs": [
    {
     "data": {
      "text/plain": [
       "'head'"
      ]
     },
     "execution_count": 9,
     "metadata": {},
     "output_type": "execute_result"
    }
   ],
   "source": [
    "soup.title.parent.name"
   ]
  },
  {
   "cell_type": "code",
   "execution_count": 10,
   "metadata": {},
   "outputs": [
    {
     "data": {
      "text/plain": [
       "<a class=\"sister\" href=\"http://example.com/tillie\" id=\"link3\">Tillie</a>"
      ]
     },
     "execution_count": 10,
     "metadata": {},
     "output_type": "execute_result"
    }
   ],
   "source": [
    "soup.find(id=\"link3\")"
   ]
  },
  {
   "cell_type": "code",
   "execution_count": 5,
   "metadata": {},
   "outputs": [
    {
     "data": {
      "text/plain": [
       "[<a class=\"sister\" href=\"http://example.com/elsie\" id=\"link1\">Elsie</a>,\n",
       " <a class=\"sister\" href=\"http://example.com/lacie\" id=\"link2\">Lacie</a>,\n",
       " <a class=\"sister\" href=\"http://example.com/tillie\" id=\"link3\">Tillie</a>]"
      ]
     },
     "execution_count": 5,
     "metadata": {},
     "output_type": "execute_result"
    }
   ],
   "source": [
    "soup.find_all('a')"
   ]
  },
  {
   "cell_type": "code",
   "execution_count": 11,
   "metadata": {},
   "outputs": [
    {
     "name": "stdout",
     "output_type": "stream",
     "text": [
      "http://example.com/elsie\n",
      "http://example.com/lacie\n",
      "http://example.com/tillie\n"
     ]
    }
   ],
   "source": [
    "for link in soup.find_all('a'):\n",
    "    print(link.get('href'))"
   ]
  },
  {
   "cell_type": "code",
   "execution_count": 12,
   "metadata": {},
   "outputs": [
    {
     "name": "stdout",
     "output_type": "stream",
     "text": [
      "The Dormouse's story\n",
      "\n",
      "The Dormouse's story\n",
      "Once upon a time there were three little sisters; and their names were\n",
      "Elsie,\n",
      "Lacie and\n",
      "Tillie;\n",
      "and they lived at the bottom of a well.\n",
      "...\n",
      "\n"
     ]
    }
   ],
   "source": [
    "print(soup.get_text())"
   ]
  },
  {
   "cell_type": "code",
   "execution_count": 50,
   "metadata": {},
   "outputs": [
    {
     "data": {
      "text/plain": [
       "200"
      ]
     },
     "execution_count": 50,
     "metadata": {},
     "output_type": "execute_result"
    }
   ],
   "source": [
    "import requests\n",
    "r = requests.post('http://www.nettruyenmoi.com/truyen-tranh/yeu-than-ky-105810')\n",
    "r.status_code"
   ]
  },
  {
   "cell_type": "code",
   "execution_count": 42,
   "metadata": {},
   "outputs": [
    {
     "data": {
      "text/plain": [
       "'text/html; charset=utf-8'"
      ]
     },
     "execution_count": 42,
     "metadata": {},
     "output_type": "execute_result"
    }
   ],
   "source": [
    "r.headers['content-type']"
   ]
  },
  {
   "cell_type": "code",
   "execution_count": 43,
   "metadata": {},
   "outputs": [
    {
     "data": {
      "text/plain": [
       "'utf-8'"
      ]
     },
     "execution_count": 43,
     "metadata": {},
     "output_type": "execute_result"
    }
   ],
   "source": [
    "r.encoding"
   ]
  },
  {
   "cell_type": "code",
   "execution_count": 21,
   "metadata": {},
   "outputs": [
    {
     "data": {
      "text/plain": [
       "<bound method Response.json of <Response [200]>>"
      ]
     },
     "execution_count": 21,
     "metadata": {},
     "output_type": "execute_result"
    }
   ],
   "source": [
    "r.json"
   ]
  },
  {
   "cell_type": "code",
   "execution_count": 44,
   "metadata": {},
   "outputs": [],
   "source": [
    "soup = BeautifulSoup(r.text,'html.parser')"
   ]
  },
  {
   "cell_type": "code",
   "execution_count": null,
   "metadata": {},
   "outputs": [],
   "source": [
    "print(soup)"
   ]
  },
  {
   "cell_type": "code",
   "execution_count": null,
   "metadata": {},
   "outputs": [],
   "source": [
    "\n",
    "print(r.text)"
   ]
  },
  {
   "cell_type": "code",
   "execution_count": 65,
   "metadata": {},
   "outputs": [
    {
     "ename": "AttributeError",
     "evalue": "'str' object has no attribute 'get'",
     "output_type": "error",
     "traceback": [
      "\u001b[1;31m---------------------------------------------------------------------------\u001b[0m",
      "\u001b[1;31mAttributeError\u001b[0m                            Traceback (most recent call last)",
      "\u001b[1;32m<ipython-input-65-becc53c53aa8>\u001b[0m in \u001b[0;36m<module>\u001b[1;34m\u001b[0m\n\u001b[0;32m      1\u001b[0m \u001b[0mlinks\u001b[0m \u001b[1;33m=\u001b[0m \u001b[0msoup\u001b[0m\u001b[1;33m.\u001b[0m\u001b[0mfind_all\u001b[0m\u001b[1;33m(\u001b[0m\u001b[1;34m'a'\u001b[0m\u001b[1;33m)\u001b[0m\u001b[1;33m\u001b[0m\u001b[1;33m\u001b[0m\u001b[0m\n\u001b[0;32m      2\u001b[0m \u001b[1;32mfor\u001b[0m \u001b[0mlink\u001b[0m \u001b[1;32min\u001b[0m \u001b[0mlink\u001b[0m\u001b[1;33m:\u001b[0m\u001b[1;33m\u001b[0m\u001b[1;33m\u001b[0m\u001b[0m\n\u001b[1;32m----> 3\u001b[1;33m     \u001b[1;32mif\u001b[0m \u001b[1;33m(\u001b[0m\u001b[0mlink\u001b[0m\u001b[1;33m.\u001b[0m\u001b[0mget\u001b[0m\u001b[1;33m(\u001b[0m\u001b[1;34m'data-id'\u001b[0m\u001b[1;33m)\u001b[0m\u001b[1;33m.\u001b[0m\u001b[0mstr\u001b[0m \u001b[1;33m!=\u001b[0m \u001b[1;34m'None'\u001b[0m\u001b[1;33m)\u001b[0m\u001b[1;33m:\u001b[0m\u001b[1;33m\u001b[0m\u001b[1;33m\u001b[0m\u001b[0m\n\u001b[0m\u001b[0;32m      4\u001b[0m         \u001b[0mprint\u001b[0m\u001b[1;33m(\u001b[0m\u001b[0mlink\u001b[0m\u001b[1;33m.\u001b[0m\u001b[0mget\u001b[0m\u001b[1;33m(\u001b[0m\u001b[1;34m'data-id'\u001b[0m\u001b[1;33m)\u001b[0m\u001b[1;33m)\u001b[0m\u001b[1;33m\u001b[0m\u001b[1;33m\u001b[0m\u001b[0m\n",
      "\u001b[1;31mAttributeError\u001b[0m: 'str' object has no attribute 'get'"
     ]
    }
   ],
   "source": [
    "links = soup.find_all('a')\n",
    "for link in link:\n",
    "    if (link.get('data-id')):\n",
    "        print(link.get('data-id'))"
   ]
  },
  {
   "cell_type": "code",
   "execution_count": 55,
   "metadata": {},
   "outputs": [
    {
     "data": {
      "text/plain": [
       "'http://www.nettruyenmoi.com'"
      ]
     },
     "execution_count": 55,
     "metadata": {},
     "output_type": "execute_result"
    }
   ],
   "source": [
    "\n",
    "tag = BeautifulSoup(r.text,'html.parser').a\n",
    "tag['href']"
   ]
  },
  {
   "cell_type": "code",
   "execution_count": 12,
   "metadata": {},
   "outputs": [],
   "source": [
    "import requests\n",
    "URL = \"http://www.values.com/inspirational-quotes\"\n",
    "r = requests.get(URL)"
   ]
  },
  {
   "cell_type": "code",
   "execution_count": 13,
   "metadata": {},
   "outputs": [],
   "source": [
    "from bs4 import BeautifulSoup\n",
    "soup = BeautifulSoup(r.content,'html5lib')"
   ]
  },
  {
   "cell_type": "code",
   "execution_count": 14,
   "metadata": {},
   "outputs": [],
   "source": [
    "quotes = []"
   ]
  },
  {
   "cell_type": "code",
   "execution_count": 19,
   "metadata": {},
   "outputs": [],
   "source": [
    "table = soup.findAll('div',attrs={'class':'col-6'})"
   ]
  },
  {
   "cell_type": "code",
   "execution_count": 37,
   "metadata": {},
   "outputs": [
    {
     "data": {
      "text/plain": [
       "<img alt=\"When the power of love overcomes the love of power the world will know peace. #&lt;Author:0x00007fe3c13fd638&gt;\" class=\"margin-10px-bottom shadow\" height=\"310\" src=\"https://assets.passiton.com/quotes/quote_artwork/3571/medium/20220311_friday_quote.jpg?1646441674\" width=\"310\"/>"
      ]
     },
     "execution_count": 37,
     "metadata": {},
     "output_type": "execute_result"
    }
   ],
   "source": [
    "table[0].img"
   ]
  },
  {
   "cell_type": "code",
   "execution_count": 41,
   "metadata": {},
   "outputs": [
    {
     "data": {
      "text/plain": [
       "'When the power of love overcomes the love of power the world will know peace.'"
      ]
     },
     "execution_count": 41,
     "metadata": {},
     "output_type": "execute_result"
    }
   ],
   "source": [
    "table[0].img['alt'].split(\" #\")[0]"
   ]
  },
  {
   "cell_type": "code",
   "execution_count": 43,
   "metadata": {},
   "outputs": [],
   "source": [
    "quotes = []\n",
    "for row in table:\n",
    "    quote = {}\n",
    "    quote['theme'] = row.h5.text\n",
    "    quote['url'] = row.a['href']\n",
    "    quote['img'] = row.img['src']\n",
    "    quote['lines'] = row.img['alt'].split(\" #\")[0]\n",
    "    quote['author'] = row.img['alt'].split(\" #\")[1]\n",
    "    quotes.append(quote)\n"
   ]
  },
  {
   "cell_type": "code",
   "execution_count": 42,
   "metadata": {},
   "outputs": [],
   "source": [
    "filename = 'inspirational_quotes.csv'"
   ]
  },
  {
   "cell_type": "code",
   "execution_count": 47,
   "metadata": {},
   "outputs": [],
   "source": [
    "import csv\n",
    "with open(filename,'w',newline='') as f:\n",
    "    w = csv.DictWriter(f,['theme','url','img','lines','author'])\n",
    "    w.writeheader()\n",
    "    for quote in quotes:\n",
    "        w.writerow(quote)"
   ]
  },
  {
   "cell_type": "code",
   "execution_count": 97,
   "metadata": {},
   "outputs": [],
   "source": [
    "import requests\n",
    "url = \"https://www.thegioididong.com/dtdd/samsung-galaxy-a52s-5g/danh-gia\"\n",
    "query = {\n",
    "    \"p\":14\n",
    "}\n",
    "headers = {\n",
    "    \"user-agent\" : \"Mozilla/5.0 (Windows NT 10.0; Win64; x64) AppleWebKit/537.36 (KHTML, like Gecko) Chrome/99.0.4844.51 Safari/537.36\"\n",
    "}\n",
    "r = requests.get(url,headers=headers,params=query)\n",
    "from bs4 import BeautifulSoup\n",
    "soup = BeautifulSoup(r.content,'html5lib')\n"
   ]
  },
  {
   "cell_type": "code",
   "execution_count": 98,
   "metadata": {},
   "outputs": [
    {
     "name": "stdout",
     "output_type": "stream",
     "text": [
      "<p class=\"cmt-txt\">Máy đẹp  mượt mà, đã sử dụng được hơn 1 tuần. Mình lấy bản màu xanh ngọc trai 256GB, hàng mới ra nên giá còn khá cao</p>\n",
      "<p class=\"cmt-txt\">Chào anh,<br/>Dạ bên em xin cảm ơn và ghi nhận đánh giá của mình ạ.<br/>Thông tin đến anh.</p>\n",
      "<p class=\"cmt-txt\">Chào anh.<br/>Dạ bên em ghi nhận đánh giá của mình đối với sản phẩm và đã chuyển đến bộ phận liên quan.<br/>Thông tin đến anh. </p>\n",
      "<p class=\"cmt-txt\">Màu đen vơi xanh la sao giá khác nhau nhiêu thế shop .cấu hinh 2 mấy co khác nhau k hay chỉ màu thôi</p>\n",
      "<p class=\"cmt-txt\">Chào anh,<br/>Dạ sản phẩm chỉ khác ở màu sắc thôi ạ, hiện tại do máy đang có chương trình khuyến mãi nên giá chênh lệch anh nha<br/>Chia sẻ cùng anh.</p>\n",
      "<p class=\"cmt-txt\">Khi lắc đt có nghe tiếng kêu lạch cạch ngay cụm camera là sao vậy ad ơi. ĐT CÓ BỊ J KO</p>\n",
      "<p class=\"cmt-txt\">Chào bạn! <br/>Trường hợp này bạn mang máy ra cửa hàng gần nhất bên em để bên em kiểm tra và hỗ trợ chính xác ạ. <br/>Thông tin đến bạn. </p>\n",
      "<p class=\"cmt-txt\">Có ai bị lỗi gyro scope khi chơi pubg giống em không ạ em bị tự xoay xong rung rung khung ảnh</p>\n",
      "<p class=\"cmt-txt\">Máy thì tầm ổn nhưng pin hao nhanh với chụp hình không được rõ nét cho lắm tầm giá này mọi người mua A72 đi.</p>\n",
      "<p class=\"cmt-txt\">Dạ  cho em hỏi  dt có sẵn  kính cường lực chưa ạ.  Hay là mặt kính cảm ứng  thôi</p>\n",
      "<p class=\"cmt-txt\">Chào anh,<br/>Dạ mặt kính cảm ứng là Kính cường lực Corning Gorilla Glass 5 anh nha<br/>Thông tin đến anh.</p>\n",
      "<p class=\"cmt-txt\">Sau 2 tuần sd mình thấy dt này ok. Chụp hình đẹp, chơi game mạnh, ko nóng máy. Lướt mượt. Pin cũng ok mình chỉnh 60hz thì cũng trâu còn chỉnh 120hz thì hao xíu. Có điều ai chơi game thì màng hình này riêng cá nhân mình chơi ko dc đã màng hình 6.5 hơi nhỏ, còn chế độ rung khi thông báo tới mình thấy cũng ko dc mạnh. Nhưng bù lại mọi thứ ok cho 5sao</p>\n",
      "<p class=\"cmt-txt\">Chào anh,<br/>Dạ bên em xin cảm ơn những đánh giá của mình về chất lượng sản phẩm cũng như hài lòng với dịch vụ bên em ạ<br/>Thân gửi đến anh.</p>\n",
      "<p class=\"cmt-txt\">Cấu hình cao tại sao không bật fps cao được của liên quân mong tl\n",
      "Thật là thất vọng</p>\n",
      "<p class=\"cmt-txt\">Mình là 1 fan của samsung nhưng so với nhữq dòng máy samsung mình sài trước đây thì phải nói con samsung A52s này tệ vô cùng. Chn là sao khi hết chỉ thị 16 thì nhà mình bị mất trộm và mất cái đt samsung A51 mình mua cũq gần 2 năm, và do công việc nên mình đã mua cáu đt A52s này theo đánh giá cá nhân của mình thì pin xài rất hao, đôi khi chơi game cũq hay giật lag, còn mạng wifi hay 4g thì đôi khi ko vào dc game ko bít có phải do mạng wifi hay 4g hay ko nhưq wifi ở nhà và wifi ở cửa hàng mình cũq ko vào dc game mình đk gói 4g cũq ko dc lun, vào nhìu lần thì mới vào dc. Mình ko ưng nhất là pin rất là hao lun, so với con A51 mình xài 2 năm thì có khi hao hơn. Thất vọng khi mua con này wa</p>\n",
      "<p class=\"cmt-txt\">Mình muốn đổi a52 5g sang a52s thì phải bù bao nhiêu tiền vậy ,mình mới mua hơn 1tháng</p>\n",
      "<p class=\"cmt-txt\">Chào anh  <br/>Dạ nếu sản phẩm mình mua mới tại Thegioididong.com hoặc Dienmayxanh.com từ ngày 1/3/2021 trong vòng 8 tháng gần đây, không bị trầy xước cấn móp, ngấm chất lỏng, còn giữ nguyên tình trạng ban đầu, không bị lỗi do người dùng, còn đủ phụ kiện và khuyến mãi kèm theo thì bên em có chính sách thu lại ạ. Mình vui lòng cung cấp số điện thoại mua hàng để bên em hỗ trợ tính giá thu lại tham khảo giúp mình ạ! <br/>Mong nhận được tin từ anh. </p>\n",
      "<p class=\"cmt-txt\">sao k có chổ đặt hàng vậy ad . có thanh toán bằng thẻ tín dụng k vậy  .xin cho thông tin</p>\n",
      "<p class=\"cmt-txt\">Chào anh,<br/>Dạ hiện bên em có hỗ trợ thanh toán bằng thẻ tín dụng ạ. Và anh có thể để lại thông tin địa chỉ cụ thể (xã/phường-quận huyện) nơi mình sinh sống để bên em kiểm tra thông tin và hỗ trợ chính xác giúp cho mình, anh nhé. <br/>Mong nhận được phản hồi từ anh. </p>\n",
      "<p class=\"cmt-txt\">Mình muốn tiết kiệm chi phí để mua đt, để ý tới em này rồi, mình muốn mua máy mà ko lấy quà được ko ad, nếu được thì mức giá sau cùng là bao nhiêu ạ.</p>\n",
      "<p class=\"cmt-txt\">Chào anh  <br/>Dạ sản phẩm hiện không có khuyến mãi quà tặng ạ. Dạ mình vui lòng cung cấp thông tin khu vực quận/huyện cụ thể em kiểm tra giá ở khu vực giúp mình ngay anh nha. <br/>Mong nhận được tin từ anh. </p>\n",
      "<p class=\"cmt-txt\">em moi mua đt cách đây 2 ngày mà e k thấy KM mua sim gì hết vậy shop e nhớ thường mua đc KM mua sim giảm giá</p>\n",
      "<p class=\"cmt-txt\">Chào anh  <br/>Dạ mình vui lòng thông tin số điện thoại mua hàng (không che số) bên em sẽ kiểm tra giúp mình ạ  <br/>Mong nhận phản hồi từ anh. </p>\n",
      "<p class=\"cmt-txt\">Em moi mua con a51 6thang roi noi hoi troc phan tren xieu thu lai tam nkieu a ( doi bu tien á</p>\n",
      "<p class=\"cmt-txt\">Chào anh <br/>Dạ nếu sản phẩm mua mới bên em , còn thời gian bảo hành và sản phẩm không bị trầy xước cấn móp, ngấm chất lỏng, còn giữ nguyên tình trạng ban đầu, ko bị lỗi do người dùng, còn đủ phụ kiện và khuyến mãi kèm theo. Khách mua từ ngày 1/3/2021 thì bên em sẽ hỗ trợ thu lại và hoàn lại trong tháng đầu tiên 80% giá trên hóa đơn từ tháng thứ hai mỗi tháng trừ thêm 10% ạ. Anh vui lòng cho em xin số điện thoại mua hàng để em kiểm  tra giá thu lại cho mình tham khảo ạ.  <br/>Xin thông tin đến anh. </p>\n",
      "<p class=\"cmt-txt\">Đt này mở loa to hết cỡ nghe rè k êm , khóa vân tay kém máy màng hình dài mà nhỏ nói chung 10 triệu thì k ổn</p>\n",
      "<p class=\"cmt-txt\">Dòng điên thoại A52s này có hàng tại TGDĐ Mỹ Phước Tây không , có mở cửa bán hàng chưa ạ</p>\n",
      "<p class=\"cmt-txt\">Chào anh,<br/>Dạ sản phẩm không còn hàng tại khu vực TX. Cai Lậy rồi ạ. Hiện tại siêu thị này vẫn có phục vụ khách hàng đên 18h hằng ngày, tuy nhiên chỉ dưới 2 - 10 khách hàng/lượt thôi ạ<br/>Thông tin đến anh.</p>\n",
      "<p class=\"cmt-txt\">Hỏi thì xuống cmt bình luận. Đánh giá làm gì???</p>\n",
      "<p class=\"cmt-txt\">Dạ mong anh thông cảm bên em chưa rõ vấn đề mình quan tâm ạ, anh vui lòng thông tin cụ thể hơn để được hỗ trợ anh nha  <br/>Thông tin đến anh. </p>\n",
      "<p class=\"cmt-txt\">Ý là nói Đồng Văn Haărng hỏi có bán không mà cũng vô chỗ đánh giá hỏi</p>\n",
      "<p class=\"cmt-txt\">Samsung A52s này tại TGDĐ thị trấn Mỹ Phước, Tân Phước, Tiền Giang có hàng không ạ. Giá giảm áp dụng mua online hay tại cửa hàng vậy ạ</p>\n",
      "<p class=\"cmt-txt\">Chào chị, <br/>Dạ hiện nếu anh mua tại siêu thị và mua online sẽ có giá 10.290.000₫ ạ và sản phẩm còn hàng ở Điện máy Xanh Ấp Phú Thạnh, Xã Phú Mỹ, Huyện Tân Phước, Tỉnh Tiền Giang chị nhé<br/>Thông tin đến chị. </p>\n",
      "<p class=\"cmt-txt\">Mới mua được 01 tuần, giờ sạt không lên nguồn, đã thử mọi cách. Mua điện thoại là muốn để xài, kiểu này chán vãi ra. từ trước giờ toàn mua đồ điẹn máy xanh. lần này cảm thấy mất niềm tin ghê. Chính sáchđổi trả như thế nào vậy ad ơi?</p>\n",
      "<p class=\"cmt-txt\">Tựa game liên quân bao giờ lên được 60fps ạ. Em k bật đc em sài samsung Galaxy A52s 5G</p>\n",
      "<p class=\"cmt-txt\">Chào bạn,<br/>Dạ mình thử chỉnh cấu hình thấp xuống 1 tí xem sao ạ<br/>Thông tin đến bạn. </p>\n",
      "<p class=\"cmt-txt\">bạn sài phần mềm kich lên 60fps á, còn chíp này dư sức chơi, tại chip mới LQ chưa mở cho nó thôi ông</p>\n",
      "<p class=\"cmt-txt\">vào trận mới bật được fps cao nhé...</p>\n",
      "<p class=\"cmt-txt\">Sạc 25w... sạc từ 0% đến 100% khoảng bao nhiêu phút cho viên pin này... cho xin ít review về sạc nhanh 25w</p>\n",
      "<p class=\"cmt-txt\">Chào anh, <br/>Dạ sản phẩm sẽ tốn khoảng 1.5 giờ để sạc đầy anh nhé.<br/>Thông tin đến anh. </p>\n",
      "<p class=\"cmt-txt\">Nhà sản xuất tiêu chuẩn cho pin 4500 sử dụng cho sam sung a52s 5G xem video Youtube là khoản bao nhiêu tiếng đồng hồ ad , mong ad hỗ trợ để mọi người hiểu hơn sản phẩm nhé ?</p>\n",
      "<p class=\"cmt-txt\">Chào bạn<br/>Dạ máy có pin 4500mAh thời gian dùng khoảng 4 giờ 30 phút ạ , tuy nhiên còn phụ thuộc vào tác vụ trên máy , độ sáng , âm thanh ,... khác nhau mà thời gian dùng cũng có chênh lệch ngắn hoặc dài hơn đó ạ<br/>Thông tin đến bạn</p>\n",
      "<p class=\"cmt-txt\">điện thoại dùng mượt - không chê gì - mỗi tội Pin tụt hơi nhanh . để qua đêm tắt hết mạng Wifi và 4g vẫn xuống 8% pin</p>\n",
      "<p class=\"cmt-txt\">Chào bạn! <br/>Dạ bạn giúp mình xóa các ứng dụng chạy ngầm, các kết nối không cần thiết và theo dõi thêm xem sao a<br/>Thông tin đến bạn. </p>\n",
      "<p class=\"cmt-txt\">Mới mua đc 2 ngày mà sao pin mau hết quá nói 4500 mAh mà sài mới có chúc đã tuộc pin hết , có cách nào để lâu hết pin ko z</p>\n",
      "<p class=\"cmt-txt\">Thấy mọi người phàn nàn nhiều vậy. nhưng cá nhân tôi thì thấy ổn lắm, mua đt kèm cục sạt 25W chính hãng của SS, sạt từ 10% lên 100% chỉ sắp sĩ 1 tiếng, nấu chưa rồi bữa cơm đã đầy pin rồi. màng hình thì thấy khá ưng độ nét cao, xem video 4k rất ưng, chỉ mỗi tội wifi sao sao á, cảm giác nó ko ổn định...</p>\n",
      "<p class=\"cmt-txt\">Chào chị.<br/>Bên em ghi nhận đánh giá của mình và sẽ chuyển đến bộ phận liên quan ạ <br/>Chúc chị một ngày vui vẻ</p>\n",
      "<p class=\"cmt-txt\">Cho mình hỏi hôm nay TGDD mở lại dịch vụ nộp tiền vào via momo chưa ? Ở Long Xuyên nha bạn.</p>\n",
      "<p class=\"cmt-txt\">Chào anh.<br/>Dạ siêu thị khu vực mình tạm ngừng hoạt động nên chưa hỗ trợ nạp ví Momo ạ.<br/>Thông tin đến anh. </p>\n",
      "<p class=\"cmt-txt\">Mình cho 5 sao vì con này cực an toàn chưa thấy báo cáo nào nói rằng nó gửi dữ liệu về ... Ngoài ra là hàng \"made in Vietnam\"</p>\n",
      "<p class=\"cmt-txt\">Cho hoi tai tan hong dong thap da co san pham nay chua vay qtv? Xin cam on......</p>\n",
      "<p class=\"cmt-txt\">Chào anh,<br/>Dạ rất tiếc sản phẩm không có hàng tại khu vực của mình  rồi ạ. Mong anh thông cảm.<br/>Thông tin đến anh.</p>\n",
      "<p class=\"cmt-txt\">Pin hơi kém\n",
      "Ngày sạc 1 lần là sao thế nhỉ\n",
      "5 tiếng r là phải sạc r\n",
      "..............</p>\n",
      "<p class=\"cmt-txt\">Chào bạn! <br/>Dạ tùy vào nhu cầu sử dụng mà máy sẽ có thời gian sử dụng pin khác nhau, nếu bạn chơi game và chụp ảnh nhiều thì sử dụng được 5 tiếng là tốt rồi bạn nhé<br/>Thông tin đến bạn! </p>\n",
      "<p class=\"cmt-txt\">dùng 1 thời gian thì máy sẽ tối ưu pin nhé, nhớ mỗi tháng cập nhật phần mềm một lần trong mục cài đặt=&gt; cập nhật phần mềm</p>\n",
      "<p class=\"cmt-txt\">Con a52s này có test ấp suất của may được không bạn</p>\n",
      "<p class=\"cmt-txt\">Dạ bạn vào ứng dụng Điện thoại -&gt; Chọn Bàn phím -&gt; nhấn *#0*# -&gt; Sensor -&gt; xem dòng Barometer Sensor lúc bạn nhấn vào màn hình nếu nhảy số liên tục thì còn chống nước bạn nhé.<br/>Thông tin đến bạn. </p>\n",
      "<p class=\"cmt-txt\">mình mới mua A52 s 5g, chưa tới 1 ngày. khung viền ko bị bong ọp rờ tay cảm thấy nhấp nhô rõ, tôi muốn đổi máy khác luôn được không</p>\n",
      "<p class=\"cmt-txt\">Chào anh.<br/>Dạ trường hợp này mình có thể vui lòng mang sản phẩm tới siêu thị để nhân viên kiểm tra và hỗ trợ giúp mình nha anh. Mong anh thông cảm vì trải nghiệm không tốt về sản phẩm ạ<br/>Thông tin đến anh </p>\n",
      "<p class=\"cmt-txt\">Dự định mua. Cho xin ý kiến với ạ. Máy mạnh hk với có tụt pin k ạ</p>\n",
      "<p class=\"cmt-txt\">Cho hỏi rõ ràng trên giới thiệu là 2 sim. Nhưng sao máy tôi lại có 1 sim Vậy</p>\n",
      "<p class=\"cmt-txt\">Cho hỏi rõ ràng trên giới thiệu là 2 sim. Nhưng sao máy tôi lại có 1 sim Vậy</p>\n",
      "<p class=\"cmt-txt\">Cho hỏi rõ ràng trên giới thiệu là 2 sim. Nhưng sao máy tôi lại có 1 sim Vậy</p>\n",
      "<p class=\"cmt-txt\">Máy dùng mượt mỗi tội máy cong</p>\n",
      "<p class=\"cmt-txt\">Máy dùng mượt mỗi tội máy cong</p>\n",
      "<p class=\"cmt-txt\">Mới 2  tuần đã bị vậy , cho hỏi đây là gì v ạ . Trong mhi sài ốp trong nhựa dẻo mà hnay mở ra thấy vậy . Quá là thất vọng , mong tgdd phản hồi cmt này sớm nhất có thể ạ</p>\n",
      "<p class=\"cmt-txt\">Điện thoại mới mua mà không biết sao hiện bị lỗi vậy. Không biết xài thời gian nữa có ảnh hưởng gì không. Mong được hỗ trợ giải đáp thắc mắc giùm.</p>\n",
      "<p class=\"cmt-txt\">Điện thoại mới mua mà không biết sao hiện bị lỗi vậy. Không biết xài thời gian nữa có ảnh hưởng gì không. Mong được hỗ trợ giải đáp thắc mắc giùm.</p>\n",
      "<p class=\"cmt-txt\">Điện thoại mới mua mà không biết sao hiện bị lỗi vậy. Không biết xài thời gian nữa có ảnh hưởng gì không. Mong được hỗ trợ giải đáp thắc mắc giùm.</p>\n",
      "<p class=\"cmt-txt\">WiFi sd đt cũ hoặc dòng máy khác thì ổn,còn  ss 52sv 5g này cũng ở cùng địa điểm mà bắt WiFi kém quá, giờ đổi máy được không ạ.mua khoảng 2tuan</p>\n",
      "<p class=\"cmt-txt\">Mình thấy sài ok , chụp hình đẹp , ánh sáng tốt , nhân viên cũng dễ thương nữa</p>\n",
      "<p class=\"cmt-txt\">Nhân viên chăm sóc khách hàng tốt \n",
      "điện thoại sam sung Galaxy a52s 5G 128GB \n",
      " Sử dụng rất ok  chụp ảnh đẹp</p>\n",
      "<p class=\"cmt-txt\">Pin tuột rất nhanh hơn cả con a20s cũ 3900 của mình , đo nhiều lần chỉ còn 4370 thôi mặc dù để 60hz , cho ứng dụng nghỉ sâu , tiết kiệm pin các kiểu . K biết có đổi máy được k</p>\n",
      "<p class=\"cmt-txt\">Máy pin tốt, tốc độ xử lý tạm ổn  nhưng chưa nhanh lắm, sóng 4G hơi yếu, trong thành phố mà 2-3 vạch, loa nghe nhạc khá hay, chụp ảnh tạm được chứ không đẹp và thật, zom 10x nhòe và bể ảnh. Bàn phím bấm chữ hay nhảy nhầm chữ, chắc do độ chính xác cảm ứng not ok. Chưa thử 5G nên chưa biết thế nào</p>\n",
      "<p class=\"cmt-txt\">mua máy đổi trả dùng được hơn 1 tuần thì thấy nắp lưng đằng sau bị phồng lên, trong khi mình dùng rất ít và không sạc qua đêm cũng như chơi game, không biết có được đổi máy không, thật sựu rất thất vọng</p>\n",
      "<p class=\"cmt-txt\">Điện thoại sài được 1 ngày thấy rất tốt. Pin ổn, máy chơi game mượt, nhạy vs âm thanh nghe khá đã.Rất hài long.Nhân viên tư vấn nhiệt tình.Khuyên mọi người nên mua về dùng.</p>\n",
      "<p class=\"cmt-txt\">Máy mua về dùng được 3 ngày thì bị lỗi hiện nửa màn hình đen. Đem lên cho kỹ thuật kiểm tra thì báo máy bị do lỗi phần mềm nền cập nhật phần mềm và kt tắt báo do máy hiển thị quá nhiều thông báo trên thanh công cụ nên bị vậy. Đến bây giờ sau khi tắt bớt thông báo và cập nhật thì máy vẫn bị tình trạng như trên. Hy vọng được hỗ trợ vì máy mới mua bị vậy rất khó chịu.</p>\n",
      "<p class=\"cmt-txt\">Đã mua. Cảm nhận pin sụt nhanh. Theo như hình ảnh như vậy là dùng chíp gì. Thấy không hiện tên chip snapdragon</p>\n",
      "<p class=\"cmt-txt\">Điện thoại xài mượt, nhanh, màn đẹp. Chụp hình rỏ đẹp, âm thanh Dolby Atmos trong, bass chắc. Sử dụng nghe nhạc hoặc mạng xã hội pin được 2 ngày, pin ít tuột như một số người hay nói (chú ý tắt các ứng dụng chạy ngầm hoặc ít dùng tiêu thụ pin cao). Mình không chơi game nên không đánh giá về game được.</p>\n",
      "<p class=\"cmt-txt\">Khóa màn hình ,bỏ bào túi quần thường xuyên bị cấn phím là sao z adm..lâu lâu bị như z hoài ak..mọi thứ còn lại thì ok.</p>\n",
      "<p class=\"cmt-txt\">Mình mới mua nên chưa trải nghiệm vong sp ra sao nhưng mình cảm ơn nhan viên phục vụ rất nhiệt tình còn sp thì mình chưa nói được điều gì....</p>\n",
      "<p class=\"cmt-txt\">Tuyệt vời trong tầm giá, màn hình 120Hz, âm thanh dolby thật sự mượt. Pin 4500 mAh cũng là tương đối ổn ko thể đòi hỏi thêm. Rất đáng mua.</p>\n",
      "<p class=\"cmt-txt\">Đt dùng mượt và tốt nhưng mà pin tụt hơi nhanh so với tgdd so sánh trên mạng và bắt wifi hơi yếu, không biết có phải lỗi không, mong tgdd phản hồi</p>\n",
      "<p class=\"cmt-txt\">Viền khung điện thoại nhấp nhô khi cầm đt chơi game , do kiểu thiết kế hay là trục trặc z ad mong xử lý</p>\n",
      "<p class=\"cmt-txt\">Mới mua dc 2 ngày. Xài rất ok.mượt. Nhưng hơi buồn vì chỉ có 1 màu xanh.do kết quá nên mua.chỉ ko ưng màu sắc</p>\n",
      "<p class=\"cmt-txt\">Máy thiết kế đẹp, mình k chơi game nên thấy máy hoạt động tốt, mượt mà. Có vài lỗi nhỏ về ứng dụng và camera nhưng có thể do máy mới ra nên phần mềm chưa được tối ưu. Tuy nhiên màn thì ám vàng khá nặng. Không biết lỗi này do phần mềm hay do phần cứng nữa. 4* ạ!</p>\n",
      "<p class=\"cmt-txt\">Nói chung mọi thứ là oke, nhưng mình thấy con này màn hình ko được sắc nét. Pin cảm giác sụt hơi nhanh. Nếu gặp wifi yếu thì bắt sẽ hơi kém.</p>\n",
      "<p class=\"cmt-txt\">Nói chung mọi thứ là oke, nhưng mình thấy con này màn hình ko được sắc nét. Pin cảm giác sụt hơi nhanh. Nếu gặp wifi yếu thì bắt sẽ hơi kém.</p>\n",
      "<p class=\"cmt-txt\">Mình mới dùng máy nên chưa đánh giá hết được\n",
      "Thấy cơ bản thì màu đẹp, mình chụp từ j7pro nên ko được chuẩn màu lắm, màn hình có dán sẵn, máy dùng ổn nhưng mình mới sạc pin lần đầu đã bị nóng máy, sạc kèm máy 15w gần 2 tiếng mới đầy pin nhe với lại mình thấy thân máy hơi dài. Mình mới đánh 2 trận liên quân cũng thấy mượt mà ạ, mặc dù wifi nhà mình đêm nào cũng lướt fb ko được :) Sáng đặt hàng thì trưa có hàng rồi nha m.n. Nhân viên giao hàng mưa gió nhưng vẫn rất nhiệt tình. Tóm lại mình là con gái thấy màu đẹp nên mua thôi chứ không review kỹ như các anh được. M.n nên tham khảo thêm nhé!</p>\n",
      "<p class=\"cmt-txt\">Mình mới dùng máy nên chưa đánh giá hết được\n",
      "Thấy cơ bản thì màu đẹp, mình chụp từ j7pro nên ko được chuẩn màu lắm, màn hình có dán sẵn, máy dùng ổn nhưng mình mới sạc pin lần đầu đã bị nóng máy, sạc kèm máy 15w gần 2 tiếng mới đầy pin nhe với lại mình thấy thân máy hơi dài. Mình mới đánh 2 trận liên quân cũng thấy mượt mà ạ, mặc dù wifi nhà mình đêm nào cũng lướt fb ko được :) Sáng đặt hàng thì trưa có hàng rồi nha m.n. Nhân viên giao hàng mưa gió nhưng vẫn rất nhiệt tình. Tóm lại mình là con gái thấy màu đẹp nên mua thôi chứ không review kỹ như các anh được. M.n nên tham khảo thêm nhé!</p>\n",
      "<p class=\"cmt-txt\">Cảm nhận cá nhân! Máy yếu ko như quảng cáo.. Chụp cam trước bình thường nếu không nói là xấu. Cam sau test chung vs còn Oppo F11pro cũ cũng same nhau.. 120Hz thật ra thấy cũng chẳng có gì đặc sắc.. Hao pin mà tác vụ cũng vậy..Mới mua về sọc 2-3 viền ngang như sợi chỉ nhỏ.. Tinh mắt mới thấy... Khi bán hàng đã qua sử dụng 2 tháng. Thì TGDD nên cho khách biết ngoài trầy còn có bị gì khác không để ngta thấy hợp lí mua về.. Tụi tui học sinh sinh viên. Ko thể soi như thợ đc. Đừng để bán đc hàng mà mất luôn KH.. Mua về lần này là từ giã TGDD luôn..Bán hàng mà bảo mua hàng qua tay là không bảo hành, k thu lại bla bla.. Chỉ bảo hành chính hãng cần thì đem máy đi trung tâm bảo hành SS... Vậy t mua máy ở TGDD chi vậy? Gặp tỉnh xa k có TT bảo hành rồi sao? Sợ hãy TGDD phường 1 vĩnh long.</p>\n",
      "<p class=\"cmt-txt\">Máy ảnh chụp rất mờ\n",
      "Bắt wifi yếu\n",
      "Messenger rất hay như thế này đem ra thì bảo k bị gì\n",
      "Cấu hình yếu\n",
      "Pin tụt cực nhanh, sạc lâu\n",
      "Mới mua hơn tháng nhưng k hài lòng tí nào\n",
      "VỚI GIÁ NÀY MỌI NGƯỜI NÊN MUA MÁY KHÁC ĐỂ KHÔNG LẠI HỐI HẬN, MẤY RẤT NHIỀU LỖI</p>\n",
      "<p class=\"cmt-txt\">Cho mình hỏi mình mới cập nhật điện thoại sam sung a 52 s lên Android 12 thì có cái giống trong hình có cách để cho nó mất không</p>\n",
      "<p class=\"cmt-txt\">Ad cho tôi hỏi như này là bị sao v tôi muốn tìm cách khắc phục ngay lập tức xin cảm ơn ad</p>\n",
      "<p class=\"cmt-txt\">Mình đã bật chế độ vuốt lòng bàn tay để chụp màn hình như không hiểu vì sao máy lại không nhận diện và chụp được, không biết có cần phải bật thêm chỗ nào nữa hay không. Mong các anh chị phản hồi và hướng dẫn giúp mình ạ</p>\n",
      "<p class=\"cmt-txt\">sao chơi game góc này bị xám vậy\n",
      "còn thoát ra màn hình thường thì mất ạ\n",
      "\n",
      "có ai bị giống tui ko</p>\n",
      "<p class=\"cmt-txt\">Mấy đứa chê con a52s này t khuyên tụi m về xài 1280 đi cho nó bền. Nghĩ sao dt ta vầy mà chê. Lên mạng mướt rượt. Chơi game mượt lắm. Pin dùng vừa chơi vừa nghỉ thì sáng sạc đầy tới 8h tối mới phải sạc. Đấy là chơi game á nha chớ để chế độ chờ nghe gọi lướt face thôi chắc dc hơn ngày. Như vậy là quá ổn trog tầm giá rồi. T dùng con 13pm đây sáng sạc đầy thì chơi game đến 8-9h tối cũng hết pin thôi chứ đòi gì nữa ::)) mà chê chê chê. Thực sự t làm biếng cmt lắm nhưng hôm nay rãnh rỗi quá lướt cmt cho những bạn sau k khỏi phân vân. T đã dùng hơn tháng rồi tác dụng máy rất là ổn. Rất ưng luôn. Ai mún mua thì k phải phân vân đâu. Mình cầm trên tay trãi nghiệm mới đúng. Nghe ba cái xàm xí đú mấy đứa chê cho nó xài 1280 đi nghe gọi đập chọi mới đã với nó. Haha</p>\n",
      "<p class=\"cmt-txt\">Mấy đứa chê con a52s này t khuyên tụi m về xài 1280 đi cho nó bền. Nghĩ sao dt ta vầy mà chê. Lên mạng mướt rượt. Chơi game mượt lắm. Pin dùng vừa chơi vừa nghỉ thì sáng sạc đầy tới 8h tối mới phải sạc. Đấy là chơi game á nha chớ để chế độ chờ nghe gọi lướt face thôi chắc dc hơn ngày. Như vậy là quá ổn trog tầm giá rồi. T dùng con 13pm đây sáng sạc đầy thì chơi game đến 8-9h tối cũng hết pin thôi chứ đòi gì nữa ::)) mà chê chê chê. Thực sự t làm biếng cmt lắm nhưng hôm nay rãnh rỗi quá lướt cmt cho những bạn sau k khỏi phân vân. T đã dùng hơn tháng rồi tác dụng máy rất là ổn. Rất ưng luôn. Ai mún mua thì k phải phân vân đâu. Mình cầm trên tay trãi nghiệm mới đúng. Nghe ba cái xàm xí đú mấy đứa chê cho nó xài 1280 đi nghe gọi đập chọi mới đã với nó. Haha</p>\n",
      "<p class=\"cmt-txt\">Mấy đứa chê con a52s này t khuyên tụi m về xài 1280 đi cho nó bền. Nghĩ sao dt ta vầy mà chê. Lên mạng mướt rượt. Chơi game mượt lắm. Pin dùng vừa chơi vừa nghỉ thì sáng sạc đầy tới 8h tối mới phải sạc. Đấy là chơi game á nha chớ để chế độ chờ nghe gọi lướt face thôi chắc dc hơn ngày. Như vậy là quá ổn trog tầm giá rồi. T dùng con 13pm đây sáng sạc đầy thì chơi game đến 8-9h tối cũng hết pin thôi chứ đòi gì nữa ::)) mà chê chê chê. Thực sự t làm biếng cmt lắm nhưng hôm nay rãnh rỗi quá lướt cmt cho những bạn sau k khỏi phân vân. T đã dùng hơn tháng rồi tác dụng máy rất là ổn. Rất ưng luôn. Ai mún mua thì k phải phân vân đâu. Mình cầm trên tay trãi nghiệm mới đúng. Nghe ba cái xàm xí đú mấy đứa chê cho nó xài 1280 đi nghe gọi đập chọi mới đã với nó. Haha</p>\n",
      "<p class=\"cmt-txt\">Mọi thứ điều rất ổn trừ pin tụt hơi nhanh chút nhưng vẫn ok. Mua hôm qua với giá 10.190.000đ tạm thời thì rất ok</p>\n",
      "<p class=\"cmt-txt\">Mọi thứ ( camera, cấu hình, hình ảnh,...) đều rất ổn có cái là pin hơi tụt nhanh xíu thôi</p>\n",
      "<p class=\"cmt-txt\">Đánh giá điện thoại sau khi mua được gần 1 tháng. Mình sử dụng 120hz bật chế độ tối dùng wifi tắt alway on display on screen được khoảng 5 tiếng chơi game tốt nóng cao nhất khoảng 42 độ</p>\n",
      "<p class=\"cmt-txt\">Tựa game liên quân bao giờ lên được 60fps ạ. Em k bật đc em sài samsung Galaxy A52s 5G</p>\n",
      "<p class=\"cmt-txt\">Máy tôi mới lấy đc 9 ngày...  lúc đầu khá ngon... bh không hiểu sao cứ lag lag kiểu gì ấy.. trong khi sóng wifi gần đầy...</p>\n"
     ]
    }
   ],
   "source": [
    "commentPage = []\n",
    "file = open('danhgiaGalaxyA52.html','w',newline='',encoding=\"utf-8\")\n",
    "for row in soup.find_all('p',attrs={'class':'cmt-txt'}):\n",
    "    if row.text != '' :\n",
    "        print(row)\n",
    "        commentPage.append(row)"
   ]
  },
  {
   "cell_type": "code",
   "execution_count": 96,
   "metadata": {},
   "outputs": [
    {
     "data": {
      "text/plain": [
       "[<p class=\"cmt-txt\">Em hỏi máy e quanh viền camera nốt ruồi có bị màu xanh là do đâu ạ</p>,\n",
       " <p class=\"cmt-txt\">Chào bạn!  <br/>Dạ bạn có thể chụp lại giúp mình phần đó để mình có thể kiểm tra được giúp bạn ạ.<br/>Mong thông tin phản hồi từ bạn ! </p>,\n",
       " <p class=\"cmt-txt\">Điện thoại bắt wifi so với các điện thoại khác là rất kém</p>,\n",
       " <p class=\"cmt-txt\">Mình mua A52s 5G 128GB hôm 19/11/2021, nay mình muốn đổi để lên đời máy lên S22 thì TGDĐ mua lại được bao nhiêu % vậy ?</p>,\n",
       " <p class=\"cmt-txt\">Chào anh,<br/>Nếu sản phẩm mình mua mới tại TGDD/DMX, không bị lỗi do người dùng và giữ nguyên tình trạng ban đầu, đầy đủ phụ kiện, khuyến mãi kèm theo thì bên em có chính sách thu mua với giá 80% giá sản phẩm trên hóa đơn (trong tháng đầu tiên, các tháng sau mỗi tháng cộng thêm 10% phí) trong 8 tháng kể từ ngày mua ạ, anh có thể vui lòng cung cấp số điện thoại mua hàng sản phẩm (không che số) để bên em hỗ trợ kiểm tra giúp mình ạ<br/>Mong nhận phản hồi từ anh.</p>,\n",
       " <p class=\"cmt-txt\">Cho hỏi mới mua máy sao mình lại đổi vậy ? Mình đang định mua máy này ?</p>,\n",
       " <p class=\"cmt-txt\">Đây là ảnh chụp màn hình của đt khác ạ, hay thao tác của a52s ạ</p>,\n",
       " <p class=\"cmt-txt\">Chào bạn! <br/>Dạ trường hợp này bạn có thể mô tả thêm vấn đề bạn đang quan tâm để mình hỗ trợ tốt hơn được không ạ.  <br/>Mong phản hồi từ bạn ạ! </p>,\n",
       " <p class=\"cmt-txt\">Chào anh  <br/>Dạ bên em chưa nhận được thông tin từ mình ạ <br/>Mong nhận phản hồi từ anh. </p>,\n",
       " <p class=\"cmt-txt\">máy mới mua sài được 1 hôm mà hơi đơ , bắt wifi yếu, sài tầm 30' thì máy bị nóng</p>,\n",
       " <p class=\"cmt-txt\">Chào chị ! <br/>Dạ trường hợp này chị có thể vào cài đặt hệ thống, kiểm tra cập nhật hệ thống lên mới nhất, vào CHPlay cập nhật các ứng dụng trong máy lên, gỡ các ứng dụng bên thứ 3 hoặc ứng dụng không cần thiết, hạ độ sáng màn hình, tắt các ứng dụng chạy ngầm và khởi động lại máy xem sao ạ. <br/>Thông tin đến chị. </p>,\n",
       " <p class=\"cmt-txt\">Cho hỏi rõ ràng trên giới thiệu là 2 sim. Nhưng sao máy tôi lại có 1 sim Vậy</p>,\n",
       " <p class=\"cmt-txt\">Chào anh ! <br/>Dạ máy chỉ có thể dùng được 1 sim và 1 thẻ nhớ hoặc 2 sim thôi đó ạ.<br/>Thông tin đến anh</p>,\n",
       " <p class=\"cmt-txt\">Máy dùng mượt mỗi tội máy cong</p>,\n",
       " <p class=\"cmt-txt\">Chào anh  <br/>Dạ trường hợp này mình vui lòng mang sản phẩm đến siêu thị để được hỗ trợ kiểm tra và có thông tin tham khảo cụ thể hơn ạ  <br/>Thông tin đến anh. </p>,\n",
       " <p class=\"cmt-txt\">Mua máy samsung A52s 5G ngày 4/2 về xài đến nay thì mình thấy máy tốt, lướt facebook, web, zalo, game nặng điều mượt và tốt, không có hiện tượng lag hay sập nguồn, pin dùng ok. Mình không cập nhật phiên bản Android mới cứ dùng bản cài sẵn theo máy vậy là thấy ok rồi. Thiết kế máy đẹp cầm hơi nhẹ tay, vỏ bằng nhựa hay kim loại không quan trọng với mình, thích nhất là có jack tai nghe 3,5mm và màn hình cong2,5D. Chứ samsung hay sản xuất các máy tràn viền ôi chúa ghét các máy đó. Con chip snap778 chơi game lâu tầm 45' không quá nóng rất tốt, màn hình chỉnh xuống còn 60hz đã thấy mượt rồi. Camera cả trước và sau đều ok. Có một điểm thất vọng là khây sim thẻ SD chỉ làm bằng nhựa, không thể tin nổi cái máy giá trị gần 11 triệu mà khây sim được làm bằng nhựa còn các máy khác 3,4 là có khây sim bằng kim loại rồi , khi gắn sim nếu ấn xuống chỉ sơ suất bị lệch hướng xíu thôi là có thể gẩy ngay, nó rất mỏng manh. Thất vọng ở chổ khây sim còn các mặt thì ok tốt.</p>,\n",
       " <p class=\"cmt-txt\">Ad cho minh hoi. Minh moi mua a52s 5g .minh tra gop 6thang. Minh gop dc 1 thang roi. Tra gop het dc may thang la minh dc ban lai dt cho tgđđ vay.</p>,\n",
       " <p class=\"cmt-txt\">Chào anh  <br/>Dạ mình có thể thanh lý hợp đồng trả góp sau đó bên em kiểm tra hỗ trợ thu lại anh nha<br/>Thông tin đến anh. </p>,\n",
       " <p class=\"cmt-txt\">Mua qua sd giá tốt</p>,\n",
       " <p class=\"cmt-txt\">Máy xài ok</p>,\n",
       " <p class=\"cmt-txt\">Sản phẩm dùng tạm ổn,tiếc đã mất seal</p>,\n",
       " <p class=\"cmt-txt\">Chào bạn !<br/>Dạ cảm ơn bạn đã đánh giá sản phẩm ở bên mình ạ.<br/>Thông tin đến bạn</p>,\n",
       " <p class=\"cmt-txt\">Sao điện thoại A52S của mình không có chức năng vowifi vậy TGDD ơi ?</p>,\n",
       " <p class=\"cmt-txt\">Chào bạn! <br/>Dạ VoWiFi (Cuộc gọi thoại qua Wi-Fi) là một dịch vụ điện thoại được nhà điều hành mạng của bạn cung cấp, nhà mạng bạn đang sử dụng có hỗ trợ tính năng trên thì mới dùng được bạn nhé<br/>Thông tin đến bạn! </p>,\n",
       " <p class=\"cmt-txt\">Mua cũ bên Tgdd sài thời gian đầu rất oke,nhưng bây giờ để không không sử dụng từ 2h chiều tới 8h tối tụt pin từ 96% xuống 75%. \n",
       " Còn vân tay trong màn hình,nhận diện khuôn mặt kh nhạy chút nào. Nói chung thất vọng</p>,\n",
       " <p class=\"cmt-txt\">Pin để từ tối tới sáng tụt hết 4% là có bị chai ko ạ, từ 50% còn 46%. Mong đc giúp đỡ</p>,\n",
       " <p class=\"cmt-txt\">Chào anh, <br/>Dạ khi không sử dụng thì máy vẫn sẽ hao pin do các ứng dụng hệ thống chạy ngầm như cập nhật thời gian, kết nối mạng, duy trì bộ nhớ,... nếu anh để qua đêm mà hao 4% thì pin vẫn còn rất tốt, anh yên tâm sử dụng nhé.<br/>Thông tin đến anh. </p>,\n",
       " <p class=\"cmt-txt\">z bjh thuog og oi</p>,\n",
       " <p class=\"cmt-txt\">Đã trải nghiệm được 10 ngày.. pin chỉ tương đương 4k.. loa ngoài thoại zalo kém.. bắt sóng wf và 4g yếu.. hợp lý với mức giá 7tr...</p>,\n",
       " <p class=\"cmt-txt\">Chào anh.<br/>Dạ bên em ghi nhận góp ý của mình đối với sản phẩm và đã chuyển đến bộ phận liên quan.<br/>Thông tin đến anh. </p>,\n",
       " <p class=\"cmt-txt\">Trừ hết tất cả thì giá thực là bao nhiêu hả bạn</p>,\n",
       " <p class=\"cmt-txt\">Giá thực đến tay là bao nhiêu hả banh</p>,\n",
       " <p class=\"cmt-txt\">Chào anh.<br/>Dạ anh  có thể cung cấp cụ thể địa chỉ khu vực mình đang sống (phường/xã, quận/huyện,  tỉnh/Thành phố) để bên em kiểm tra giá khuyến mãi cụ thể giúp mình ạ.<br/>Mong nhận phản hồi từ anh. </p>,\n",
       " <p class=\"cmt-txt\">Chụp hình trước không được nét. Pin ko cần xài cũng tự động hết. Đã đổi lại cái mới nhưng vẫn như vậy. Có thể ko dùng hàng ss nữa</p>,\n",
       " <p class=\"cmt-txt\">Tắt tần số quét 120 hz đi k bị tụt nữa</p>,\n",
       " <p class=\"cmt-txt\">Theo tui ý thì tui mua được 4 tháng rồi sài mọi thức ok hết có đều lâu lâu cái bị lỗi phần mềm khỏi động lại là hết.</p>,\n",
       " <p class=\"cmt-txt\">Mình vừa mua cho vợ xài đc khoảng 1 tuần để gọi zalo vs message thì luôn bị chập chờn ko nghe rõ, trong khi các điện thoại khác xài cùng wifi thì ko vấn đề gì.</p>,\n",
       " <p class=\"cmt-txt\">Mình đã sử dụng hơn 1 tháng, mượt mà, dễ sử dụng dụng, nhiều chức năng mới. Ảnh chụp rõ nét, tươi sáng. Mình rất hài lòng.</p>,\n",
       " <p class=\"cmt-txt\">Đt mình mới mua đc 2 tuần sử dụng mọi thứ đều ổn, hôm nay tự nhiên pin tụt nhanh quá 30phút tụt 10% pin trong khi mình đã tắt các ứng dụng chạy ngầm</p>,\n",
       " <p class=\"cmt-txt\">Chào bạn! <br/>Dạ để khắc phục tình trạng trên, bạn vui lòng tham khảo bài viết <a href=\"https://www.thegioididong.com/tin-tuc/pin-dien-thoai-sut-qua-nhanh-lam-sao-de-khac-phuc--1045521\" target=\"_blank\">sau đây </a>để biết thêm thông tin chi tiết và làm theo hướng dẫn xem sao ạ<br/>Thông tin đến bạn!</p>,\n",
       " <p class=\"cmt-txt\">Vấn đề nữa là 100% pin tới sáng mất 4, 5% pin thì bt nhưng khi cầm lên dùng 1 một chút mặc dù k mở wifi luôn nó vẫn tụt nhanh , cứ k dùng để đó là sẽ tụt vài %, cho e hỏi nếu dùng 4g trong thời gian dài với ss a52s 5g sẽ chịu đc bao nhiêu tiếng v ?</p>,\n",
       " <p class=\"cmt-txt\">Dạ trường hợp này nếu bạn dùng 4G và sử dụng liên tục với các tác vụ cơ bản thì sẽ sử dụng được khoảng 5h đó ạ<br/>Thông tin đến bạn. </p>,\n",
       " <p class=\"cmt-txt\">Mới 2  tuần đã bị vậy , cho hỏi đây là gì v ạ . Trong mhi sài ốp trong nhựa dẻo mà hnay mở ra thấy vậy . Quá là thất vọng , mong tgdd phản hồi cmt này sớm nhất có thể ạ</p>,\n",
       " <p class=\"cmt-txt\">Chào bạn<br/>Dạ khi sử dụng ốp lưng nếu bị bụi vào bên trong thì bụi sẽ ma sát với mặt lưng máy gây nên các vết trầy đó ạ <br/>Thông tin đến bạn</p>,\n",
       " <p class=\"cmt-txt\">Do ở bẩn chứ sao</p>,\n",
       " <p class=\"cmt-txt\">Do ở bẩn chứ sao</p>,\n",
       " <p class=\"cmt-txt\">Mua máy cũ .nhưng Mượt. pin ổn. Cấu hình tốt .nói chung tốt trong tầm giá     \n",
       " Mua máy cũ .nhưng Mượt. pin ổn. Cấu hình tốt .nói chung tốt trong tầm giá</p>,\n",
       " <p class=\"cmt-txt\">Chào anh,<br/>Dạ cám ơn mình đã quan tâm sử dụng và có đánh giá tốt về sản phẩm của Thế giới di động, mong mình sẽ có trải nghiệm tốt khi sử dụng sản phẩm lâu dài ạ. Hân hạnh phục vụ và đồng hành cùng Quý khách ạ. <br/>Thông tin đến anh.</p>,\n",
       " <p class=\"cmt-txt\">Máy ok nhanh mượt mỗi tội vỏ nhựa sạc 15w theo máy sạc hơi chậm so mới mức giá phải mua bộ 25w ngoài</p>,\n",
       " <p class=\"cmt-txt\">Màn đẹp, hiệu năng ổn, loa nghe hay. nhưng wifi hơi yếu với  vỏ nhựa rất ộp ẹp. Mình đã đổi qua 11T</p>,\n",
       " <p class=\"cmt-txt\">Hàng quá tệ máy hay đúng kg bấm được núc nào cả mau hết bin máy nóng mình đã đổi 1 lần rồi quá nản</p>,\n",
       " <p class=\"cmt-txt\">Cho hỏi rõ ràng trên giới thiệu là 2 sim. Nhưng sao máy tôi lại có 1 sim Vậy</p>,\n",
       " <p class=\"cmt-txt\">Cho hỏi rõ ràng trên giới thiệu là 2 sim. Nhưng sao máy tôi lại có 1 sim Vậy</p>,\n",
       " <p class=\"cmt-txt\">Cho hỏi rõ ràng trên giới thiệu là 2 sim. Nhưng sao máy tôi lại có 1 sim Vậy</p>,\n",
       " <p class=\"cmt-txt\">Máy dùng mượt mỗi tội máy cong</p>,\n",
       " <p class=\"cmt-txt\">Máy dùng mượt mỗi tội máy cong</p>,\n",
       " <p class=\"cmt-txt\">Mới 2  tuần đã bị vậy , cho hỏi đây là gì v ạ . Trong mhi sài ốp trong nhựa dẻo mà hnay mở ra thấy vậy . Quá là thất vọng , mong tgdd phản hồi cmt này sớm nhất có thể ạ</p>,\n",
       " <p class=\"cmt-txt\">Điện thoại mới mua mà không biết sao hiện bị lỗi vậy. Không biết xài thời gian nữa có ảnh hưởng gì không. Mong được hỗ trợ giải đáp thắc mắc giùm.</p>,\n",
       " <p class=\"cmt-txt\">Điện thoại mới mua mà không biết sao hiện bị lỗi vậy. Không biết xài thời gian nữa có ảnh hưởng gì không. Mong được hỗ trợ giải đáp thắc mắc giùm.</p>,\n",
       " <p class=\"cmt-txt\">Điện thoại mới mua mà không biết sao hiện bị lỗi vậy. Không biết xài thời gian nữa có ảnh hưởng gì không. Mong được hỗ trợ giải đáp thắc mắc giùm.</p>,\n",
       " <p class=\"cmt-txt\">WiFi sd đt cũ hoặc dòng máy khác thì ổn,còn  ss 52sv 5g này cũng ở cùng địa điểm mà bắt WiFi kém quá, giờ đổi máy được không ạ.mua khoảng 2tuan</p>,\n",
       " <p class=\"cmt-txt\">Mình thấy sài ok , chụp hình đẹp , ánh sáng tốt , nhân viên cũng dễ thương nữa</p>,\n",
       " <p class=\"cmt-txt\">Nhân viên chăm sóc khách hàng tốt \n",
       " điện thoại sam sung Galaxy a52s 5G 128GB \n",
       "  Sử dụng rất ok  chụp ảnh đẹp</p>,\n",
       " <p class=\"cmt-txt\">Pin tuột rất nhanh hơn cả con a20s cũ 3900 của mình , đo nhiều lần chỉ còn 4370 thôi mặc dù để 60hz , cho ứng dụng nghỉ sâu , tiết kiệm pin các kiểu . K biết có đổi máy được k</p>,\n",
       " <p class=\"cmt-txt\">Máy pin tốt, tốc độ xử lý tạm ổn  nhưng chưa nhanh lắm, sóng 4G hơi yếu, trong thành phố mà 2-3 vạch, loa nghe nhạc khá hay, chụp ảnh tạm được chứ không đẹp và thật, zom 10x nhòe và bể ảnh. Bàn phím bấm chữ hay nhảy nhầm chữ, chắc do độ chính xác cảm ứng not ok. Chưa thử 5G nên chưa biết thế nào</p>,\n",
       " <p class=\"cmt-txt\">mua máy đổi trả dùng được hơn 1 tuần thì thấy nắp lưng đằng sau bị phồng lên, trong khi mình dùng rất ít và không sạc qua đêm cũng như chơi game, không biết có được đổi máy không, thật sựu rất thất vọng</p>,\n",
       " <p class=\"cmt-txt\">Điện thoại sài được 1 ngày thấy rất tốt. Pin ổn, máy chơi game mượt, nhạy vs âm thanh nghe khá đã.Rất hài long.Nhân viên tư vấn nhiệt tình.Khuyên mọi người nên mua về dùng.</p>,\n",
       " <p class=\"cmt-txt\">Máy mua về dùng được 3 ngày thì bị lỗi hiện nửa màn hình đen. Đem lên cho kỹ thuật kiểm tra thì báo máy bị do lỗi phần mềm nền cập nhật phần mềm và kt tắt báo do máy hiển thị quá nhiều thông báo trên thanh công cụ nên bị vậy. Đến bây giờ sau khi tắt bớt thông báo và cập nhật thì máy vẫn bị tình trạng như trên. Hy vọng được hỗ trợ vì máy mới mua bị vậy rất khó chịu.</p>,\n",
       " <p class=\"cmt-txt\">Đã mua. Cảm nhận pin sụt nhanh. Theo như hình ảnh như vậy là dùng chíp gì. Thấy không hiện tên chip snapdragon</p>,\n",
       " <p class=\"cmt-txt\">Điện thoại xài mượt, nhanh, màn đẹp. Chụp hình rỏ đẹp, âm thanh Dolby Atmos trong, bass chắc. Sử dụng nghe nhạc hoặc mạng xã hội pin được 2 ngày, pin ít tuột như một số người hay nói (chú ý tắt các ứng dụng chạy ngầm hoặc ít dùng tiêu thụ pin cao). Mình không chơi game nên không đánh giá về game được.</p>,\n",
       " <p class=\"cmt-txt\">Khóa màn hình ,bỏ bào túi quần thường xuyên bị cấn phím là sao z adm..lâu lâu bị như z hoài ak..mọi thứ còn lại thì ok.</p>,\n",
       " <p class=\"cmt-txt\">Mình mới mua nên chưa trải nghiệm vong sp ra sao nhưng mình cảm ơn nhan viên phục vụ rất nhiệt tình còn sp thì mình chưa nói được điều gì....</p>,\n",
       " <p class=\"cmt-txt\">Tuyệt vời trong tầm giá, màn hình 120Hz, âm thanh dolby thật sự mượt. Pin 4500 mAh cũng là tương đối ổn ko thể đòi hỏi thêm. Rất đáng mua.</p>,\n",
       " <p class=\"cmt-txt\">Đt dùng mượt và tốt nhưng mà pin tụt hơi nhanh so với tgdd so sánh trên mạng và bắt wifi hơi yếu, không biết có phải lỗi không, mong tgdd phản hồi</p>,\n",
       " <p class=\"cmt-txt\">Viền khung điện thoại nhấp nhô khi cầm đt chơi game , do kiểu thiết kế hay là trục trặc z ad mong xử lý</p>,\n",
       " <p class=\"cmt-txt\">Mới mua dc 2 ngày. Xài rất ok.mượt. Nhưng hơi buồn vì chỉ có 1 màu xanh.do kết quá nên mua.chỉ ko ưng màu sắc</p>,\n",
       " <p class=\"cmt-txt\">Máy thiết kế đẹp, mình k chơi game nên thấy máy hoạt động tốt, mượt mà. Có vài lỗi nhỏ về ứng dụng và camera nhưng có thể do máy mới ra nên phần mềm chưa được tối ưu. Tuy nhiên màn thì ám vàng khá nặng. Không biết lỗi này do phần mềm hay do phần cứng nữa. 4* ạ!</p>,\n",
       " <p class=\"cmt-txt\">Nói chung mọi thứ là oke, nhưng mình thấy con này màn hình ko được sắc nét. Pin cảm giác sụt hơi nhanh. Nếu gặp wifi yếu thì bắt sẽ hơi kém.</p>,\n",
       " <p class=\"cmt-txt\">Nói chung mọi thứ là oke, nhưng mình thấy con này màn hình ko được sắc nét. Pin cảm giác sụt hơi nhanh. Nếu gặp wifi yếu thì bắt sẽ hơi kém.</p>,\n",
       " <p class=\"cmt-txt\">Mình mới dùng máy nên chưa đánh giá hết được\n",
       " Thấy cơ bản thì màu đẹp, mình chụp từ j7pro nên ko được chuẩn màu lắm, màn hình có dán sẵn, máy dùng ổn nhưng mình mới sạc pin lần đầu đã bị nóng máy, sạc kèm máy 15w gần 2 tiếng mới đầy pin nhe với lại mình thấy thân máy hơi dài. Mình mới đánh 2 trận liên quân cũng thấy mượt mà ạ, mặc dù wifi nhà mình đêm nào cũng lướt fb ko được :) Sáng đặt hàng thì trưa có hàng rồi nha m.n. Nhân viên giao hàng mưa gió nhưng vẫn rất nhiệt tình. Tóm lại mình là con gái thấy màu đẹp nên mua thôi chứ không review kỹ như các anh được. M.n nên tham khảo thêm nhé!</p>,\n",
       " <p class=\"cmt-txt\">Mình mới dùng máy nên chưa đánh giá hết được\n",
       " Thấy cơ bản thì màu đẹp, mình chụp từ j7pro nên ko được chuẩn màu lắm, màn hình có dán sẵn, máy dùng ổn nhưng mình mới sạc pin lần đầu đã bị nóng máy, sạc kèm máy 15w gần 2 tiếng mới đầy pin nhe với lại mình thấy thân máy hơi dài. Mình mới đánh 2 trận liên quân cũng thấy mượt mà ạ, mặc dù wifi nhà mình đêm nào cũng lướt fb ko được :) Sáng đặt hàng thì trưa có hàng rồi nha m.n. Nhân viên giao hàng mưa gió nhưng vẫn rất nhiệt tình. Tóm lại mình là con gái thấy màu đẹp nên mua thôi chứ không review kỹ như các anh được. M.n nên tham khảo thêm nhé!</p>,\n",
       " <p class=\"cmt-txt\">Cảm nhận cá nhân! Máy yếu ko như quảng cáo.. Chụp cam trước bình thường nếu không nói là xấu. Cam sau test chung vs còn Oppo F11pro cũ cũng same nhau.. 120Hz thật ra thấy cũng chẳng có gì đặc sắc.. Hao pin mà tác vụ cũng vậy..Mới mua về sọc 2-3 viền ngang như sợi chỉ nhỏ.. Tinh mắt mới thấy... Khi bán hàng đã qua sử dụng 2 tháng. Thì TGDD nên cho khách biết ngoài trầy còn có bị gì khác không để ngta thấy hợp lí mua về.. Tụi tui học sinh sinh viên. Ko thể soi như thợ đc. Đừng để bán đc hàng mà mất luôn KH.. Mua về lần này là từ giã TGDD luôn..Bán hàng mà bảo mua hàng qua tay là không bảo hành, k thu lại bla bla.. Chỉ bảo hành chính hãng cần thì đem máy đi trung tâm bảo hành SS... Vậy t mua máy ở TGDD chi vậy? Gặp tỉnh xa k có TT bảo hành rồi sao? Sợ hãy TGDD phường 1 vĩnh long.</p>,\n",
       " <p class=\"cmt-txt\">Máy ảnh chụp rất mờ\n",
       " Bắt wifi yếu\n",
       " Messenger rất hay như thế này đem ra thì bảo k bị gì\n",
       " Cấu hình yếu\n",
       " Pin tụt cực nhanh, sạc lâu\n",
       " Mới mua hơn tháng nhưng k hài lòng tí nào\n",
       " VỚI GIÁ NÀY MỌI NGƯỜI NÊN MUA MÁY KHÁC ĐỂ KHÔNG LẠI HỐI HẬN, MẤY RẤT NHIỀU LỖI</p>,\n",
       " <p class=\"cmt-txt\">Cho mình hỏi mình mới cập nhật điện thoại sam sung a 52 s lên Android 12 thì có cái giống trong hình có cách để cho nó mất không</p>,\n",
       " <p class=\"cmt-txt\">Ad cho tôi hỏi như này là bị sao v tôi muốn tìm cách khắc phục ngay lập tức xin cảm ơn ad</p>,\n",
       " <p class=\"cmt-txt\">Mình đã bật chế độ vuốt lòng bàn tay để chụp màn hình như không hiểu vì sao máy lại không nhận diện và chụp được, không biết có cần phải bật thêm chỗ nào nữa hay không. Mong các anh chị phản hồi và hướng dẫn giúp mình ạ</p>,\n",
       " <p class=\"cmt-txt\">sao chơi game góc này bị xám vậy\n",
       " còn thoát ra màn hình thường thì mất ạ\n",
       " \n",
       " có ai bị giống tui ko</p>,\n",
       " <p class=\"cmt-txt\">Mấy đứa chê con a52s này t khuyên tụi m về xài 1280 đi cho nó bền. Nghĩ sao dt ta vầy mà chê. Lên mạng mướt rượt. Chơi game mượt lắm. Pin dùng vừa chơi vừa nghỉ thì sáng sạc đầy tới 8h tối mới phải sạc. Đấy là chơi game á nha chớ để chế độ chờ nghe gọi lướt face thôi chắc dc hơn ngày. Như vậy là quá ổn trog tầm giá rồi. T dùng con 13pm đây sáng sạc đầy thì chơi game đến 8-9h tối cũng hết pin thôi chứ đòi gì nữa ::)) mà chê chê chê. Thực sự t làm biếng cmt lắm nhưng hôm nay rãnh rỗi quá lướt cmt cho những bạn sau k khỏi phân vân. T đã dùng hơn tháng rồi tác dụng máy rất là ổn. Rất ưng luôn. Ai mún mua thì k phải phân vân đâu. Mình cầm trên tay trãi nghiệm mới đúng. Nghe ba cái xàm xí đú mấy đứa chê cho nó xài 1280 đi nghe gọi đập chọi mới đã với nó. Haha</p>,\n",
       " <p class=\"cmt-txt\">Mấy đứa chê con a52s này t khuyên tụi m về xài 1280 đi cho nó bền. Nghĩ sao dt ta vầy mà chê. Lên mạng mướt rượt. Chơi game mượt lắm. Pin dùng vừa chơi vừa nghỉ thì sáng sạc đầy tới 8h tối mới phải sạc. Đấy là chơi game á nha chớ để chế độ chờ nghe gọi lướt face thôi chắc dc hơn ngày. Như vậy là quá ổn trog tầm giá rồi. T dùng con 13pm đây sáng sạc đầy thì chơi game đến 8-9h tối cũng hết pin thôi chứ đòi gì nữa ::)) mà chê chê chê. Thực sự t làm biếng cmt lắm nhưng hôm nay rãnh rỗi quá lướt cmt cho những bạn sau k khỏi phân vân. T đã dùng hơn tháng rồi tác dụng máy rất là ổn. Rất ưng luôn. Ai mún mua thì k phải phân vân đâu. Mình cầm trên tay trãi nghiệm mới đúng. Nghe ba cái xàm xí đú mấy đứa chê cho nó xài 1280 đi nghe gọi đập chọi mới đã với nó. Haha</p>,\n",
       " <p class=\"cmt-txt\">Mấy đứa chê con a52s này t khuyên tụi m về xài 1280 đi cho nó bền. Nghĩ sao dt ta vầy mà chê. Lên mạng mướt rượt. Chơi game mượt lắm. Pin dùng vừa chơi vừa nghỉ thì sáng sạc đầy tới 8h tối mới phải sạc. Đấy là chơi game á nha chớ để chế độ chờ nghe gọi lướt face thôi chắc dc hơn ngày. Như vậy là quá ổn trog tầm giá rồi. T dùng con 13pm đây sáng sạc đầy thì chơi game đến 8-9h tối cũng hết pin thôi chứ đòi gì nữa ::)) mà chê chê chê. Thực sự t làm biếng cmt lắm nhưng hôm nay rãnh rỗi quá lướt cmt cho những bạn sau k khỏi phân vân. T đã dùng hơn tháng rồi tác dụng máy rất là ổn. Rất ưng luôn. Ai mún mua thì k phải phân vân đâu. Mình cầm trên tay trãi nghiệm mới đúng. Nghe ba cái xàm xí đú mấy đứa chê cho nó xài 1280 đi nghe gọi đập chọi mới đã với nó. Haha</p>,\n",
       " <p class=\"cmt-txt\">Mọi thứ điều rất ổn trừ pin tụt hơi nhanh chút nhưng vẫn ok. Mua hôm qua với giá 10.190.000đ tạm thời thì rất ok</p>,\n",
       " <p class=\"cmt-txt\">Mọi thứ ( camera, cấu hình, hình ảnh,...) đều rất ổn có cái là pin hơi tụt nhanh xíu thôi</p>,\n",
       " <p class=\"cmt-txt\">Đánh giá điện thoại sau khi mua được gần 1 tháng. Mình sử dụng 120hz bật chế độ tối dùng wifi tắt alway on display on screen được khoảng 5 tiếng chơi game tốt nóng cao nhất khoảng 42 độ</p>,\n",
       " <p class=\"cmt-txt\">Tựa game liên quân bao giờ lên được 60fps ạ. Em k bật đc em sài samsung Galaxy A52s 5G</p>,\n",
       " <p class=\"cmt-txt\">Máy tôi mới lấy đc 9 ngày...  lúc đầu khá ngon... bh không hiểu sao cứ lag lag kiểu gì ấy.. trong khi sóng wifi gần đầy...</p>]"
      ]
     },
     "execution_count": 96,
     "metadata": {},
     "output_type": "execute_result"
    }
   ],
   "source": [
    "commentPage"
   ]
  }
 ],
 "metadata": {
  "interpreter": {
   "hash": "0f93bf75dccce2e11e3e0fe88cb893e67da4cec469989fda437a3a2f92a39a17"
  },
  "kernelspec": {
   "display_name": "Python 3.6.13 ('DataMining')",
   "language": "python",
   "name": "python3"
  },
  "language_info": {
   "codemirror_mode": {
    "name": "ipython",
    "version": 3
   },
   "file_extension": ".py",
   "mimetype": "text/x-python",
   "name": "python",
   "nbconvert_exporter": "python",
   "pygments_lexer": "ipython3",
   "version": "3.6.13"
  },
  "orig_nbformat": 4
 },
 "nbformat": 4,
 "nbformat_minor": 2
}
