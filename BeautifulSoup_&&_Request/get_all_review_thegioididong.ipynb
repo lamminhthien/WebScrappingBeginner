{
 "cells": [
  {
   "cell_type": "markdown",
   "metadata": {},
   "source": [
    "# TheGioiDiDong : Get all review about product"
   ]
  },
  {
   "cell_type": "markdown",
   "metadata": {},
   "source": [
    "Function to send request"
   ]
  },
  {
   "cell_type": "code",
   "execution_count": 124,
   "metadata": {},
   "outputs": [],
   "source": [
    "import requests\n",
    "from bs4 import BeautifulSoup\n",
    "def getAllReview(query,url):\n",
    "    url = url\n",
    "    query = {\n",
    "        \"p\":query\n",
    "    }\n",
    "    headers = {\n",
    "        \"user-agent\" : \"Mozilla/5.0 (Windows NT 10.0; Win64; x64) AppleWebKit/537.36 (KHTML, like Gecko) Chrome/99.0.4844.51 Safari/537.36\"\n",
    "    }\n",
    "    r = requests.get(url,headers=headers,params=query)\n",
    "    soup = BeautifulSoup(r.content,'html5lib')\n",
    "    return soup.find_all(\"p\",attrs={'class':'cmt-txt'})"
   ]
  },
  {
   "cell_type": "markdown",
   "metadata": {},
   "source": [
    "Function to filter and join data from multi page"
   ]
  },
  {
   "cell_type": "code",
   "execution_count": 136,
   "metadata": {},
   "outputs": [],
   "source": [
    "\n",
    "def nestedAllReview(pageMax,url):\n",
    "    review = []\n",
    "    page = 1\n",
    "    while page <= pageMax:\n",
    "        data = getAllReview(page,url)\n",
    "        print(data)\n",
    "        for row in data:\n",
    "            if row.text != '':\n",
    "                review.append(row.text)\n",
    "        page += 1\n",
    "    return review"
   ]
  },
  {
   "cell_type": "markdown",
   "metadata": {},
   "source": [
    "Let Test Scrapping Galaxy A52s"
   ]
  },
  {
   "cell_type": "code",
   "execution_count": null,
   "metadata": {},
   "outputs": [],
   "source": [
    "url = \"https://www.thegioididong.com/dtdd/samsung-galaxy-a52s-5g/danh-gia\"\n",
    "pageMax = 14\n",
    "data = nestedAllReview(14,url)"
   ]
  },
  {
   "cell_type": "markdown",
   "metadata": {},
   "source": [
    "Save to file"
   ]
  },
  {
   "cell_type": "code",
   "execution_count": 138,
   "metadata": {},
   "outputs": [],
   "source": [
    "f = open('galaxya52s_review.txt','w',newline='',encoding='utf-8')\n",
    "for row in data:\n",
    "    f.writelines(row)\n",
    "    f.writelines(\"\\n\")"
   ]
  }
 ],
 "metadata": {
  "interpreter": {
   "hash": "0f93bf75dccce2e11e3e0fe88cb893e67da4cec469989fda437a3a2f92a39a17"
  },
  "kernelspec": {
   "display_name": "Python 3.6.13 ('DataMining')",
   "language": "python",
   "name": "python3"
  },
  "language_info": {
   "codemirror_mode": {
    "name": "ipython",
    "version": 3
   },
   "file_extension": ".py",
   "mimetype": "text/x-python",
   "name": "python",
   "nbconvert_exporter": "python",
   "pygments_lexer": "ipython3",
   "version": "3.6.13"
  },
  "orig_nbformat": 4
 },
 "nbformat": 4,
 "nbformat_minor": 2
}
